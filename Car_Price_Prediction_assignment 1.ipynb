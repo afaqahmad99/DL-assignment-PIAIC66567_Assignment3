{
  "nbformat": 4,
  "nbformat_minor": 0,
  "metadata": {
    "kernelspec": {
      "display_name": "Python 3",
      "language": "python",
      "name": "python3"
    },
    "colab": {
      "name": "Car Price Prediction assignment.ipynb",
      "provenance": [],
      "collapsed_sections": []
    }
  },
  "cells": [
    {
      "cell_type": "markdown",
      "metadata": {
        "id": "vOj44BqowNA-"
      },
      "source": [
        "# Car Price Prediction::"
      ]
    },
    {
      "cell_type": "markdown",
      "metadata": {
        "id": "bLJNuuzwwNBN"
      },
      "source": [
        "Download dataset from this link:\n",
        "https://www.kaggle.com/hellbuoy/car-price-prediction"
      ]
    },
    {
      "cell_type": "markdown",
      "metadata": {
        "id": "bwZv3xwzwNBP"
      },
      "source": [
        "# Problem Statement::\n"
      ]
    },
    {
      "cell_type": "markdown",
      "metadata": {
        "id": "2GLrQI9wwNBQ"
      },
      "source": [
        "A Chinese automobile company Geely Auto aspires to enter the US market by setting up their manufacturing unit there and producing cars locally to give competition to their US and European counterparts.\n",
        "\n",
        "They have contracted an automobile consulting company to understand the factors on which the pricing of cars depends. Specifically, they want to understand the factors affecting the pricing of cars in the American market, since those may be very different from the Chinese market. The company wants to know:\n",
        "\n",
        "Which variables are significant in predicting the price of a car How well those variables describe the price of a car Based on various market surveys, the consulting firm has gathered a large data set of different types of cars across the America market."
      ]
    },
    {
      "cell_type": "markdown",
      "metadata": {
        "id": "BAvC1630wNBR"
      },
      "source": [
        "# task::"
      ]
    },
    {
      "cell_type": "markdown",
      "metadata": {
        "id": "sUzCKWpOwNBS"
      },
      "source": [
        "We are required to model the price of cars with the available independent variables. It will be used by the management to understand how exactly the prices vary with the independent variables. They can accordingly manipulate the design of the cars, the business strategy etc. to meet certain price levels. Further, the model will be a good way for management to understand the pricing dynamics of a new market."
      ]
    },
    {
      "cell_type": "markdown",
      "metadata": {
        "id": "OcHQbZIawNBS"
      },
      "source": [
        "# WORKFLOW ::\n",
        "1.Load Data\n",
        "\n",
        "2.Check Missing Values ( If Exist ; Fill each record with mean of its feature )\n",
        "\n",
        "3.Split into 50% Training(Samples,Labels) , 30% Test(Samples,Labels) and 20% Validation Data(Samples,Labels).\n",
        "\n",
        "4.Model : input Layer (No. of features ), 3 hidden layers including 10,8,6 unit & Output Layer with activation function relu/tanh (check by experiment).\n",
        "\n",
        "5.Compilation Step (Note : Its a Regression problem , select loss , metrics according to it) 6.Train the Model with Epochs (100) and validate it\n",
        "\n",
        "7.If the model gets overfit tune your model by changing the units , No. of layers , activation function , epochs , add dropout layer or add Regularizer according to the need .\n",
        "\n",
        "8.Evaluation Step\n",
        "\n",
        "9.Prediction"
      ]
    },
    {
      "cell_type": "code",
      "metadata": {
        "id": "Wo4M7OucwNBU"
      },
      "source": [
        "import numpy as np\n",
        "import pandas as pd\n",
        "import matplotlib.pyplot as plt\n",
        "import tensorflow as tf\n",
        "import tensorflow as tf\n",
        "from tensorflow.keras import models,layers,optimizers,utils\n",
        "from tensorflow.keras.utils import to_categorical\n",
        "from tensorflow.keras.models import Sequential\n",
        "from tensorflow.keras.layers import Dense\n",
        "from sklearn.model_selection import train_test_split\n",
        "from sklearn.preprocessing import StandardScaler"
      ],
      "execution_count": 1,
      "outputs": []
    },
    {
      "cell_type": "code",
      "metadata": {
        "colab": {
          "resources": {
            "http://localhost:8080/nbextensions/google.colab/files.js": {
              "data": "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",
              "ok": true,
              "headers": [
                [
                  "content-type",
                  "application/javascript"
                ]
              ],
              "status": 200,
              "status_text": ""
            }
          },
          "base_uri": "https://localhost:8080/",
          "height": 72
        },
        "id": "-WWk7BxhwNBW",
        "outputId": "227f28a6-f73f-4e26-8d16-d092104ed877"
      },
      "source": [
        "import io \n",
        "from google.colab import files\n",
        "car_data = files.upload()\n",
        "car = pd.read_csv(io.BytesIO(car_data['CarPrice_Assignment.csv']))"
      ],
      "execution_count": 5,
      "outputs": [
        {
          "output_type": "display_data",
          "data": {
            "text/html": [
              "\n",
              "     <input type=\"file\" id=\"files-01309965-e631-4c11-8485-090bfb7a30e3\" name=\"files[]\" multiple disabled\n",
              "        style=\"border:none\" />\n",
              "     <output id=\"result-01309965-e631-4c11-8485-090bfb7a30e3\">\n",
              "      Upload widget is only available when the cell has been executed in the\n",
              "      current browser session. Please rerun this cell to enable.\n",
              "      </output>\n",
              "      <script src=\"/nbextensions/google.colab/files.js\"></script> "
            ],
            "text/plain": [
              "<IPython.core.display.HTML object>"
            ]
          },
          "metadata": {
            "tags": []
          }
        },
        {
          "output_type": "stream",
          "text": [
            "Saving CarPrice_Assignment.csv to CarPrice_Assignment.csv\n"
          ],
          "name": "stdout"
        }
      ]
    },
    {
      "cell_type": "code",
      "metadata": {
        "colab": {
          "base_uri": "https://localhost:8080/",
          "height": 275
        },
        "id": "Eup8H7pVwNBX",
        "outputId": "a5b7910e-db8b-45c8-9012-f5bb7e264685"
      },
      "source": [
        "\n",
        "car.head()\n",
        "\n"
      ],
      "execution_count": 7,
      "outputs": [
        {
          "output_type": "execute_result",
          "data": {
            "text/html": [
              "<div>\n",
              "<style scoped>\n",
              "    .dataframe tbody tr th:only-of-type {\n",
              "        vertical-align: middle;\n",
              "    }\n",
              "\n",
              "    .dataframe tbody tr th {\n",
              "        vertical-align: top;\n",
              "    }\n",
              "\n",
              "    .dataframe thead th {\n",
              "        text-align: right;\n",
              "    }\n",
              "</style>\n",
              "<table border=\"1\" class=\"dataframe\">\n",
              "  <thead>\n",
              "    <tr style=\"text-align: right;\">\n",
              "      <th></th>\n",
              "      <th>car_ID</th>\n",
              "      <th>symboling</th>\n",
              "      <th>CarName</th>\n",
              "      <th>fueltype</th>\n",
              "      <th>aspiration</th>\n",
              "      <th>doornumber</th>\n",
              "      <th>carbody</th>\n",
              "      <th>drivewheel</th>\n",
              "      <th>enginelocation</th>\n",
              "      <th>wheelbase</th>\n",
              "      <th>carlength</th>\n",
              "      <th>carwidth</th>\n",
              "      <th>carheight</th>\n",
              "      <th>curbweight</th>\n",
              "      <th>enginetype</th>\n",
              "      <th>cylindernumber</th>\n",
              "      <th>enginesize</th>\n",
              "      <th>fuelsystem</th>\n",
              "      <th>boreratio</th>\n",
              "      <th>stroke</th>\n",
              "      <th>compressionratio</th>\n",
              "      <th>horsepower</th>\n",
              "      <th>peakrpm</th>\n",
              "      <th>citympg</th>\n",
              "      <th>highwaympg</th>\n",
              "      <th>price</th>\n",
              "    </tr>\n",
              "  </thead>\n",
              "  <tbody>\n",
              "    <tr>\n",
              "      <th>0</th>\n",
              "      <td>1</td>\n",
              "      <td>3</td>\n",
              "      <td>alfa-romero giulia</td>\n",
              "      <td>gas</td>\n",
              "      <td>std</td>\n",
              "      <td>two</td>\n",
              "      <td>convertible</td>\n",
              "      <td>rwd</td>\n",
              "      <td>front</td>\n",
              "      <td>88.6</td>\n",
              "      <td>168.8</td>\n",
              "      <td>64.1</td>\n",
              "      <td>48.8</td>\n",
              "      <td>2548</td>\n",
              "      <td>dohc</td>\n",
              "      <td>four</td>\n",
              "      <td>130</td>\n",
              "      <td>mpfi</td>\n",
              "      <td>3.47</td>\n",
              "      <td>2.68</td>\n",
              "      <td>9.0</td>\n",
              "      <td>111</td>\n",
              "      <td>5000</td>\n",
              "      <td>21</td>\n",
              "      <td>27</td>\n",
              "      <td>13495.0</td>\n",
              "    </tr>\n",
              "    <tr>\n",
              "      <th>1</th>\n",
              "      <td>2</td>\n",
              "      <td>3</td>\n",
              "      <td>alfa-romero stelvio</td>\n",
              "      <td>gas</td>\n",
              "      <td>std</td>\n",
              "      <td>two</td>\n",
              "      <td>convertible</td>\n",
              "      <td>rwd</td>\n",
              "      <td>front</td>\n",
              "      <td>88.6</td>\n",
              "      <td>168.8</td>\n",
              "      <td>64.1</td>\n",
              "      <td>48.8</td>\n",
              "      <td>2548</td>\n",
              "      <td>dohc</td>\n",
              "      <td>four</td>\n",
              "      <td>130</td>\n",
              "      <td>mpfi</td>\n",
              "      <td>3.47</td>\n",
              "      <td>2.68</td>\n",
              "      <td>9.0</td>\n",
              "      <td>111</td>\n",
              "      <td>5000</td>\n",
              "      <td>21</td>\n",
              "      <td>27</td>\n",
              "      <td>16500.0</td>\n",
              "    </tr>\n",
              "    <tr>\n",
              "      <th>2</th>\n",
              "      <td>3</td>\n",
              "      <td>1</td>\n",
              "      <td>alfa-romero Quadrifoglio</td>\n",
              "      <td>gas</td>\n",
              "      <td>std</td>\n",
              "      <td>two</td>\n",
              "      <td>hatchback</td>\n",
              "      <td>rwd</td>\n",
              "      <td>front</td>\n",
              "      <td>94.5</td>\n",
              "      <td>171.2</td>\n",
              "      <td>65.5</td>\n",
              "      <td>52.4</td>\n",
              "      <td>2823</td>\n",
              "      <td>ohcv</td>\n",
              "      <td>six</td>\n",
              "      <td>152</td>\n",
              "      <td>mpfi</td>\n",
              "      <td>2.68</td>\n",
              "      <td>3.47</td>\n",
              "      <td>9.0</td>\n",
              "      <td>154</td>\n",
              "      <td>5000</td>\n",
              "      <td>19</td>\n",
              "      <td>26</td>\n",
              "      <td>16500.0</td>\n",
              "    </tr>\n",
              "    <tr>\n",
              "      <th>3</th>\n",
              "      <td>4</td>\n",
              "      <td>2</td>\n",
              "      <td>audi 100 ls</td>\n",
              "      <td>gas</td>\n",
              "      <td>std</td>\n",
              "      <td>four</td>\n",
              "      <td>sedan</td>\n",
              "      <td>fwd</td>\n",
              "      <td>front</td>\n",
              "      <td>99.8</td>\n",
              "      <td>176.6</td>\n",
              "      <td>66.2</td>\n",
              "      <td>54.3</td>\n",
              "      <td>2337</td>\n",
              "      <td>ohc</td>\n",
              "      <td>four</td>\n",
              "      <td>109</td>\n",
              "      <td>mpfi</td>\n",
              "      <td>3.19</td>\n",
              "      <td>3.40</td>\n",
              "      <td>10.0</td>\n",
              "      <td>102</td>\n",
              "      <td>5500</td>\n",
              "      <td>24</td>\n",
              "      <td>30</td>\n",
              "      <td>13950.0</td>\n",
              "    </tr>\n",
              "    <tr>\n",
              "      <th>4</th>\n",
              "      <td>5</td>\n",
              "      <td>2</td>\n",
              "      <td>audi 100ls</td>\n",
              "      <td>gas</td>\n",
              "      <td>std</td>\n",
              "      <td>four</td>\n",
              "      <td>sedan</td>\n",
              "      <td>4wd</td>\n",
              "      <td>front</td>\n",
              "      <td>99.4</td>\n",
              "      <td>176.6</td>\n",
              "      <td>66.4</td>\n",
              "      <td>54.3</td>\n",
              "      <td>2824</td>\n",
              "      <td>ohc</td>\n",
              "      <td>five</td>\n",
              "      <td>136</td>\n",
              "      <td>mpfi</td>\n",
              "      <td>3.19</td>\n",
              "      <td>3.40</td>\n",
              "      <td>8.0</td>\n",
              "      <td>115</td>\n",
              "      <td>5500</td>\n",
              "      <td>18</td>\n",
              "      <td>22</td>\n",
              "      <td>17450.0</td>\n",
              "    </tr>\n",
              "  </tbody>\n",
              "</table>\n",
              "</div>"
            ],
            "text/plain": [
              "   car_ID  symboling                   CarName  ... citympg highwaympg    price\n",
              "0       1          3        alfa-romero giulia  ...      21         27  13495.0\n",
              "1       2          3       alfa-romero stelvio  ...      21         27  16500.0\n",
              "2       3          1  alfa-romero Quadrifoglio  ...      19         26  16500.0\n",
              "3       4          2               audi 100 ls  ...      24         30  13950.0\n",
              "4       5          2                audi 100ls  ...      18         22  17450.0\n",
              "\n",
              "[5 rows x 26 columns]"
            ]
          },
          "metadata": {
            "tags": []
          },
          "execution_count": 7
        }
      ]
    },
    {
      "cell_type": "code",
      "metadata": {
        "colab": {
          "base_uri": "https://localhost:8080/"
        },
        "id": "11Q7_dC7wNBY",
        "outputId": "71b9053d-08ac-4138-856d-0ecefc13b628"
      },
      "source": [
        "car.info()"
      ],
      "execution_count": 8,
      "outputs": [
        {
          "output_type": "stream",
          "text": [
            "<class 'pandas.core.frame.DataFrame'>\n",
            "RangeIndex: 205 entries, 0 to 204\n",
            "Data columns (total 26 columns):\n",
            " #   Column            Non-Null Count  Dtype  \n",
            "---  ------            --------------  -----  \n",
            " 0   car_ID            205 non-null    int64  \n",
            " 1   symboling         205 non-null    int64  \n",
            " 2   CarName           205 non-null    object \n",
            " 3   fueltype          205 non-null    object \n",
            " 4   aspiration        205 non-null    object \n",
            " 5   doornumber        205 non-null    object \n",
            " 6   carbody           205 non-null    object \n",
            " 7   drivewheel        205 non-null    object \n",
            " 8   enginelocation    205 non-null    object \n",
            " 9   wheelbase         205 non-null    float64\n",
            " 10  carlength         205 non-null    float64\n",
            " 11  carwidth          205 non-null    float64\n",
            " 12  carheight         205 non-null    float64\n",
            " 13  curbweight        205 non-null    int64  \n",
            " 14  enginetype        205 non-null    object \n",
            " 15  cylindernumber    205 non-null    object \n",
            " 16  enginesize        205 non-null    int64  \n",
            " 17  fuelsystem        205 non-null    object \n",
            " 18  boreratio         205 non-null    float64\n",
            " 19  stroke            205 non-null    float64\n",
            " 20  compressionratio  205 non-null    float64\n",
            " 21  horsepower        205 non-null    int64  \n",
            " 22  peakrpm           205 non-null    int64  \n",
            " 23  citympg           205 non-null    int64  \n",
            " 24  highwaympg        205 non-null    int64  \n",
            " 25  price             205 non-null    float64\n",
            "dtypes: float64(8), int64(8), object(10)\n",
            "memory usage: 41.8+ KB\n"
          ],
          "name": "stdout"
        }
      ]
    },
    {
      "cell_type": "code",
      "metadata": {
        "id": "8QVT32vgwNBY"
      },
      "source": [
        "x=car.drop([\"price\",\"car_ID\",\"CarName\"],axis=1).copy()\n",
        "y=car[\"price\"].copy()\n"
      ],
      "execution_count": 11,
      "outputs": []
    },
    {
      "cell_type": "code",
      "metadata": {
        "colab": {
          "base_uri": "https://localhost:8080/"
        },
        "id": "R2_idlG5wNBa",
        "outputId": "383b9e3f-07b1-49d7-b1b0-3ee96bc2cfee"
      },
      "source": [
        "{column: list(x[column].unique()) for column in x.columns if x.dtypes[column]=='object'}"
      ],
      "execution_count": 12,
      "outputs": [
        {
          "output_type": "execute_result",
          "data": {
            "text/plain": [
              "{'aspiration': ['std', 'turbo'],\n",
              " 'carbody': ['convertible', 'hatchback', 'sedan', 'wagon', 'hardtop'],\n",
              " 'cylindernumber': ['four', 'six', 'five', 'three', 'twelve', 'two', 'eight'],\n",
              " 'doornumber': ['two', 'four'],\n",
              " 'drivewheel': ['rwd', 'fwd', '4wd'],\n",
              " 'enginelocation': ['front', 'rear'],\n",
              " 'enginetype': ['dohc', 'ohcv', 'ohc', 'l', 'rotor', 'ohcf', 'dohcv'],\n",
              " 'fuelsystem': ['mpfi', '2bbl', 'mfi', '1bbl', 'spfi', '4bbl', 'idi', 'spdi'],\n",
              " 'fueltype': ['gas', 'diesel']}"
            ]
          },
          "metadata": {
            "tags": []
          },
          "execution_count": 12
        }
      ]
    },
    {
      "cell_type": "code",
      "metadata": {
        "id": "Q5iwPzcTwNBc"
      },
      "source": [
        "x[\"doornumber\"]=x[\"doornumber\"].apply(lambda x: 0 if x == 'two' else 1)"
      ],
      "execution_count": 13,
      "outputs": []
    },
    {
      "cell_type": "code",
      "metadata": {
        "id": "qA-NaKOFwNBc"
      },
      "source": [
        "numeric_ordering ={'two':2,'three':3,'four':4,'five':5,'six':6,'eight':8,'twelve':12}"
      ],
      "execution_count": 14,
      "outputs": []
    },
    {
      "cell_type": "code",
      "metadata": {
        "id": "A9RRJiSDwNBd"
      },
      "source": [
        "x[\"cylindernumber\"] =x[\"cylindernumber\"].replace(numeric_ordering)"
      ],
      "execution_count": 15,
      "outputs": []
    },
    {
      "cell_type": "code",
      "metadata": {
        "id": "NySCUNy3wNBd"
      },
      "source": [
        "def binary_encode(x, columns, positive_values):\n",
        "    x =x.copy()\n",
        "    for column, positive_value in zip(columns, positive_values):\n",
        "        x[column] = x[column].apply(lambda x: 1 if x == positive_value else 0)\n",
        "    return x"
      ],
      "execution_count": 16,
      "outputs": []
    },
    {
      "cell_type": "code",
      "metadata": {
        "id": "ntiNuEb9wNBe"
      },
      "source": [
        "binary_features=['fueltype','aspiration','enginelocation',]\n",
        "binary_positive_values=['diesel','turbo','front']\n",
        "x=binary_encode(x,columns=binary_features,positive_values=binary_positive_values)"
      ],
      "execution_count": 17,
      "outputs": []
    },
    {
      "cell_type": "code",
      "metadata": {
        "id": "L66mVd-SwNBe"
      },
      "source": [
        "\n",
        "binary_features = ['fueltype','aspiration','enginelocation']\n",
        "binary_positive_values=['diesel','turbo','front']\n",
        "x=binary_encode(x,columns=binary_features,positive_values=binary_positive_values)"
      ],
      "execution_count": 18,
      "outputs": []
    },
    {
      "cell_type": "code",
      "metadata": {
        "id": "WMCeGaSjwNBf"
      },
      "source": [
        "def onehot_encode(x, columns, prefixes):\n",
        "    x = x.copy()\n",
        "    for column, prefix in zip(columns, prefixes):\n",
        "        dummies = pd.get_dummies(x[column], prefix=prefix)\n",
        "        x=pd.concat([x, dummies], axis=1)\n",
        "        x=x.drop(column, axis=1)\n",
        "    return x"
      ],
      "execution_count": 19,
      "outputs": []
    },
    {
      "cell_type": "code",
      "metadata": {
        "id": "9-4-shNBwNBg"
      },
      "source": [
        "nominal_features=['carbody','drivewheel','enginetype','fuelsystem']\n",
        "prefixes=['MK','BS','DW','ET','FS']\n",
        "x=onehot_encode(x,columns=nominal_features,prefixes=prefixes)"
      ],
      "execution_count": 20,
      "outputs": []
    },
    {
      "cell_type": "code",
      "metadata": {
        "colab": {
          "base_uri": "https://localhost:8080/",
          "height": 439
        },
        "id": "bjE1TYSGwNBg",
        "outputId": "b99328f6-a345-4241-d625-cfcacaa9d573"
      },
      "source": [
        "x"
      ],
      "execution_count": 21,
      "outputs": [
        {
          "output_type": "execute_result",
          "data": {
            "text/html": [
              "<div>\n",
              "<style scoped>\n",
              "    .dataframe tbody tr th:only-of-type {\n",
              "        vertical-align: middle;\n",
              "    }\n",
              "\n",
              "    .dataframe tbody tr th {\n",
              "        vertical-align: top;\n",
              "    }\n",
              "\n",
              "    .dataframe thead th {\n",
              "        text-align: right;\n",
              "    }\n",
              "</style>\n",
              "<table border=\"1\" class=\"dataframe\">\n",
              "  <thead>\n",
              "    <tr style=\"text-align: right;\">\n",
              "      <th></th>\n",
              "      <th>symboling</th>\n",
              "      <th>fueltype</th>\n",
              "      <th>aspiration</th>\n",
              "      <th>doornumber</th>\n",
              "      <th>enginelocation</th>\n",
              "      <th>wheelbase</th>\n",
              "      <th>carlength</th>\n",
              "      <th>carwidth</th>\n",
              "      <th>carheight</th>\n",
              "      <th>curbweight</th>\n",
              "      <th>cylindernumber</th>\n",
              "      <th>enginesize</th>\n",
              "      <th>boreratio</th>\n",
              "      <th>stroke</th>\n",
              "      <th>compressionratio</th>\n",
              "      <th>horsepower</th>\n",
              "      <th>peakrpm</th>\n",
              "      <th>citympg</th>\n",
              "      <th>highwaympg</th>\n",
              "      <th>MK_convertible</th>\n",
              "      <th>MK_hardtop</th>\n",
              "      <th>MK_hatchback</th>\n",
              "      <th>MK_sedan</th>\n",
              "      <th>MK_wagon</th>\n",
              "      <th>BS_4wd</th>\n",
              "      <th>BS_fwd</th>\n",
              "      <th>BS_rwd</th>\n",
              "      <th>DW_dohc</th>\n",
              "      <th>DW_dohcv</th>\n",
              "      <th>DW_l</th>\n",
              "      <th>DW_ohc</th>\n",
              "      <th>DW_ohcf</th>\n",
              "      <th>DW_ohcv</th>\n",
              "      <th>DW_rotor</th>\n",
              "      <th>ET_1bbl</th>\n",
              "      <th>ET_2bbl</th>\n",
              "      <th>ET_4bbl</th>\n",
              "      <th>ET_idi</th>\n",
              "      <th>ET_mfi</th>\n",
              "      <th>ET_mpfi</th>\n",
              "      <th>ET_spdi</th>\n",
              "      <th>ET_spfi</th>\n",
              "    </tr>\n",
              "  </thead>\n",
              "  <tbody>\n",
              "    <tr>\n",
              "      <th>0</th>\n",
              "      <td>3</td>\n",
              "      <td>0</td>\n",
              "      <td>0</td>\n",
              "      <td>0</td>\n",
              "      <td>0</td>\n",
              "      <td>88.6</td>\n",
              "      <td>168.8</td>\n",
              "      <td>64.1</td>\n",
              "      <td>48.8</td>\n",
              "      <td>2548</td>\n",
              "      <td>4</td>\n",
              "      <td>130</td>\n",
              "      <td>3.47</td>\n",
              "      <td>2.68</td>\n",
              "      <td>9.0</td>\n",
              "      <td>111</td>\n",
              "      <td>5000</td>\n",
              "      <td>21</td>\n",
              "      <td>27</td>\n",
              "      <td>1</td>\n",
              "      <td>0</td>\n",
              "      <td>0</td>\n",
              "      <td>0</td>\n",
              "      <td>0</td>\n",
              "      <td>0</td>\n",
              "      <td>0</td>\n",
              "      <td>1</td>\n",
              "      <td>1</td>\n",
              "      <td>0</td>\n",
              "      <td>0</td>\n",
              "      <td>0</td>\n",
              "      <td>0</td>\n",
              "      <td>0</td>\n",
              "      <td>0</td>\n",
              "      <td>0</td>\n",
              "      <td>0</td>\n",
              "      <td>0</td>\n",
              "      <td>0</td>\n",
              "      <td>0</td>\n",
              "      <td>1</td>\n",
              "      <td>0</td>\n",
              "      <td>0</td>\n",
              "    </tr>\n",
              "    <tr>\n",
              "      <th>1</th>\n",
              "      <td>3</td>\n",
              "      <td>0</td>\n",
              "      <td>0</td>\n",
              "      <td>0</td>\n",
              "      <td>0</td>\n",
              "      <td>88.6</td>\n",
              "      <td>168.8</td>\n",
              "      <td>64.1</td>\n",
              "      <td>48.8</td>\n",
              "      <td>2548</td>\n",
              "      <td>4</td>\n",
              "      <td>130</td>\n",
              "      <td>3.47</td>\n",
              "      <td>2.68</td>\n",
              "      <td>9.0</td>\n",
              "      <td>111</td>\n",
              "      <td>5000</td>\n",
              "      <td>21</td>\n",
              "      <td>27</td>\n",
              "      <td>1</td>\n",
              "      <td>0</td>\n",
              "      <td>0</td>\n",
              "      <td>0</td>\n",
              "      <td>0</td>\n",
              "      <td>0</td>\n",
              "      <td>0</td>\n",
              "      <td>1</td>\n",
              "      <td>1</td>\n",
              "      <td>0</td>\n",
              "      <td>0</td>\n",
              "      <td>0</td>\n",
              "      <td>0</td>\n",
              "      <td>0</td>\n",
              "      <td>0</td>\n",
              "      <td>0</td>\n",
              "      <td>0</td>\n",
              "      <td>0</td>\n",
              "      <td>0</td>\n",
              "      <td>0</td>\n",
              "      <td>1</td>\n",
              "      <td>0</td>\n",
              "      <td>0</td>\n",
              "    </tr>\n",
              "    <tr>\n",
              "      <th>2</th>\n",
              "      <td>1</td>\n",
              "      <td>0</td>\n",
              "      <td>0</td>\n",
              "      <td>0</td>\n",
              "      <td>0</td>\n",
              "      <td>94.5</td>\n",
              "      <td>171.2</td>\n",
              "      <td>65.5</td>\n",
              "      <td>52.4</td>\n",
              "      <td>2823</td>\n",
              "      <td>6</td>\n",
              "      <td>152</td>\n",
              "      <td>2.68</td>\n",
              "      <td>3.47</td>\n",
              "      <td>9.0</td>\n",
              "      <td>154</td>\n",
              "      <td>5000</td>\n",
              "      <td>19</td>\n",
              "      <td>26</td>\n",
              "      <td>0</td>\n",
              "      <td>0</td>\n",
              "      <td>1</td>\n",
              "      <td>0</td>\n",
              "      <td>0</td>\n",
              "      <td>0</td>\n",
              "      <td>0</td>\n",
              "      <td>1</td>\n",
              "      <td>0</td>\n",
              "      <td>0</td>\n",
              "      <td>0</td>\n",
              "      <td>0</td>\n",
              "      <td>0</td>\n",
              "      <td>1</td>\n",
              "      <td>0</td>\n",
              "      <td>0</td>\n",
              "      <td>0</td>\n",
              "      <td>0</td>\n",
              "      <td>0</td>\n",
              "      <td>0</td>\n",
              "      <td>1</td>\n",
              "      <td>0</td>\n",
              "      <td>0</td>\n",
              "    </tr>\n",
              "    <tr>\n",
              "      <th>3</th>\n",
              "      <td>2</td>\n",
              "      <td>0</td>\n",
              "      <td>0</td>\n",
              "      <td>1</td>\n",
              "      <td>0</td>\n",
              "      <td>99.8</td>\n",
              "      <td>176.6</td>\n",
              "      <td>66.2</td>\n",
              "      <td>54.3</td>\n",
              "      <td>2337</td>\n",
              "      <td>4</td>\n",
              "      <td>109</td>\n",
              "      <td>3.19</td>\n",
              "      <td>3.40</td>\n",
              "      <td>10.0</td>\n",
              "      <td>102</td>\n",
              "      <td>5500</td>\n",
              "      <td>24</td>\n",
              "      <td>30</td>\n",
              "      <td>0</td>\n",
              "      <td>0</td>\n",
              "      <td>0</td>\n",
              "      <td>1</td>\n",
              "      <td>0</td>\n",
              "      <td>0</td>\n",
              "      <td>1</td>\n",
              "      <td>0</td>\n",
              "      <td>0</td>\n",
              "      <td>0</td>\n",
              "      <td>0</td>\n",
              "      <td>1</td>\n",
              "      <td>0</td>\n",
              "      <td>0</td>\n",
              "      <td>0</td>\n",
              "      <td>0</td>\n",
              "      <td>0</td>\n",
              "      <td>0</td>\n",
              "      <td>0</td>\n",
              "      <td>0</td>\n",
              "      <td>1</td>\n",
              "      <td>0</td>\n",
              "      <td>0</td>\n",
              "    </tr>\n",
              "    <tr>\n",
              "      <th>4</th>\n",
              "      <td>2</td>\n",
              "      <td>0</td>\n",
              "      <td>0</td>\n",
              "      <td>1</td>\n",
              "      <td>0</td>\n",
              "      <td>99.4</td>\n",
              "      <td>176.6</td>\n",
              "      <td>66.4</td>\n",
              "      <td>54.3</td>\n",
              "      <td>2824</td>\n",
              "      <td>5</td>\n",
              "      <td>136</td>\n",
              "      <td>3.19</td>\n",
              "      <td>3.40</td>\n",
              "      <td>8.0</td>\n",
              "      <td>115</td>\n",
              "      <td>5500</td>\n",
              "      <td>18</td>\n",
              "      <td>22</td>\n",
              "      <td>0</td>\n",
              "      <td>0</td>\n",
              "      <td>0</td>\n",
              "      <td>1</td>\n",
              "      <td>0</td>\n",
              "      <td>1</td>\n",
              "      <td>0</td>\n",
              "      <td>0</td>\n",
              "      <td>0</td>\n",
              "      <td>0</td>\n",
              "      <td>0</td>\n",
              "      <td>1</td>\n",
              "      <td>0</td>\n",
              "      <td>0</td>\n",
              "      <td>0</td>\n",
              "      <td>0</td>\n",
              "      <td>0</td>\n",
              "      <td>0</td>\n",
              "      <td>0</td>\n",
              "      <td>0</td>\n",
              "      <td>1</td>\n",
              "      <td>0</td>\n",
              "      <td>0</td>\n",
              "    </tr>\n",
              "    <tr>\n",
              "      <th>...</th>\n",
              "      <td>...</td>\n",
              "      <td>...</td>\n",
              "      <td>...</td>\n",
              "      <td>...</td>\n",
              "      <td>...</td>\n",
              "      <td>...</td>\n",
              "      <td>...</td>\n",
              "      <td>...</td>\n",
              "      <td>...</td>\n",
              "      <td>...</td>\n",
              "      <td>...</td>\n",
              "      <td>...</td>\n",
              "      <td>...</td>\n",
              "      <td>...</td>\n",
              "      <td>...</td>\n",
              "      <td>...</td>\n",
              "      <td>...</td>\n",
              "      <td>...</td>\n",
              "      <td>...</td>\n",
              "      <td>...</td>\n",
              "      <td>...</td>\n",
              "      <td>...</td>\n",
              "      <td>...</td>\n",
              "      <td>...</td>\n",
              "      <td>...</td>\n",
              "      <td>...</td>\n",
              "      <td>...</td>\n",
              "      <td>...</td>\n",
              "      <td>...</td>\n",
              "      <td>...</td>\n",
              "      <td>...</td>\n",
              "      <td>...</td>\n",
              "      <td>...</td>\n",
              "      <td>...</td>\n",
              "      <td>...</td>\n",
              "      <td>...</td>\n",
              "      <td>...</td>\n",
              "      <td>...</td>\n",
              "      <td>...</td>\n",
              "      <td>...</td>\n",
              "      <td>...</td>\n",
              "      <td>...</td>\n",
              "    </tr>\n",
              "    <tr>\n",
              "      <th>200</th>\n",
              "      <td>-1</td>\n",
              "      <td>0</td>\n",
              "      <td>0</td>\n",
              "      <td>1</td>\n",
              "      <td>0</td>\n",
              "      <td>109.1</td>\n",
              "      <td>188.8</td>\n",
              "      <td>68.9</td>\n",
              "      <td>55.5</td>\n",
              "      <td>2952</td>\n",
              "      <td>4</td>\n",
              "      <td>141</td>\n",
              "      <td>3.78</td>\n",
              "      <td>3.15</td>\n",
              "      <td>9.5</td>\n",
              "      <td>114</td>\n",
              "      <td>5400</td>\n",
              "      <td>23</td>\n",
              "      <td>28</td>\n",
              "      <td>0</td>\n",
              "      <td>0</td>\n",
              "      <td>0</td>\n",
              "      <td>1</td>\n",
              "      <td>0</td>\n",
              "      <td>0</td>\n",
              "      <td>0</td>\n",
              "      <td>1</td>\n",
              "      <td>0</td>\n",
              "      <td>0</td>\n",
              "      <td>0</td>\n",
              "      <td>1</td>\n",
              "      <td>0</td>\n",
              "      <td>0</td>\n",
              "      <td>0</td>\n",
              "      <td>0</td>\n",
              "      <td>0</td>\n",
              "      <td>0</td>\n",
              "      <td>0</td>\n",
              "      <td>0</td>\n",
              "      <td>1</td>\n",
              "      <td>0</td>\n",
              "      <td>0</td>\n",
              "    </tr>\n",
              "    <tr>\n",
              "      <th>201</th>\n",
              "      <td>-1</td>\n",
              "      <td>0</td>\n",
              "      <td>0</td>\n",
              "      <td>1</td>\n",
              "      <td>0</td>\n",
              "      <td>109.1</td>\n",
              "      <td>188.8</td>\n",
              "      <td>68.8</td>\n",
              "      <td>55.5</td>\n",
              "      <td>3049</td>\n",
              "      <td>4</td>\n",
              "      <td>141</td>\n",
              "      <td>3.78</td>\n",
              "      <td>3.15</td>\n",
              "      <td>8.7</td>\n",
              "      <td>160</td>\n",
              "      <td>5300</td>\n",
              "      <td>19</td>\n",
              "      <td>25</td>\n",
              "      <td>0</td>\n",
              "      <td>0</td>\n",
              "      <td>0</td>\n",
              "      <td>1</td>\n",
              "      <td>0</td>\n",
              "      <td>0</td>\n",
              "      <td>0</td>\n",
              "      <td>1</td>\n",
              "      <td>0</td>\n",
              "      <td>0</td>\n",
              "      <td>0</td>\n",
              "      <td>1</td>\n",
              "      <td>0</td>\n",
              "      <td>0</td>\n",
              "      <td>0</td>\n",
              "      <td>0</td>\n",
              "      <td>0</td>\n",
              "      <td>0</td>\n",
              "      <td>0</td>\n",
              "      <td>0</td>\n",
              "      <td>1</td>\n",
              "      <td>0</td>\n",
              "      <td>0</td>\n",
              "    </tr>\n",
              "    <tr>\n",
              "      <th>202</th>\n",
              "      <td>-1</td>\n",
              "      <td>0</td>\n",
              "      <td>0</td>\n",
              "      <td>1</td>\n",
              "      <td>0</td>\n",
              "      <td>109.1</td>\n",
              "      <td>188.8</td>\n",
              "      <td>68.9</td>\n",
              "      <td>55.5</td>\n",
              "      <td>3012</td>\n",
              "      <td>6</td>\n",
              "      <td>173</td>\n",
              "      <td>3.58</td>\n",
              "      <td>2.87</td>\n",
              "      <td>8.8</td>\n",
              "      <td>134</td>\n",
              "      <td>5500</td>\n",
              "      <td>18</td>\n",
              "      <td>23</td>\n",
              "      <td>0</td>\n",
              "      <td>0</td>\n",
              "      <td>0</td>\n",
              "      <td>1</td>\n",
              "      <td>0</td>\n",
              "      <td>0</td>\n",
              "      <td>0</td>\n",
              "      <td>1</td>\n",
              "      <td>0</td>\n",
              "      <td>0</td>\n",
              "      <td>0</td>\n",
              "      <td>0</td>\n",
              "      <td>0</td>\n",
              "      <td>1</td>\n",
              "      <td>0</td>\n",
              "      <td>0</td>\n",
              "      <td>0</td>\n",
              "      <td>0</td>\n",
              "      <td>0</td>\n",
              "      <td>0</td>\n",
              "      <td>1</td>\n",
              "      <td>0</td>\n",
              "      <td>0</td>\n",
              "    </tr>\n",
              "    <tr>\n",
              "      <th>203</th>\n",
              "      <td>-1</td>\n",
              "      <td>0</td>\n",
              "      <td>0</td>\n",
              "      <td>1</td>\n",
              "      <td>0</td>\n",
              "      <td>109.1</td>\n",
              "      <td>188.8</td>\n",
              "      <td>68.9</td>\n",
              "      <td>55.5</td>\n",
              "      <td>3217</td>\n",
              "      <td>6</td>\n",
              "      <td>145</td>\n",
              "      <td>3.01</td>\n",
              "      <td>3.40</td>\n",
              "      <td>23.0</td>\n",
              "      <td>106</td>\n",
              "      <td>4800</td>\n",
              "      <td>26</td>\n",
              "      <td>27</td>\n",
              "      <td>0</td>\n",
              "      <td>0</td>\n",
              "      <td>0</td>\n",
              "      <td>1</td>\n",
              "      <td>0</td>\n",
              "      <td>0</td>\n",
              "      <td>0</td>\n",
              "      <td>1</td>\n",
              "      <td>0</td>\n",
              "      <td>0</td>\n",
              "      <td>0</td>\n",
              "      <td>1</td>\n",
              "      <td>0</td>\n",
              "      <td>0</td>\n",
              "      <td>0</td>\n",
              "      <td>0</td>\n",
              "      <td>0</td>\n",
              "      <td>0</td>\n",
              "      <td>1</td>\n",
              "      <td>0</td>\n",
              "      <td>0</td>\n",
              "      <td>0</td>\n",
              "      <td>0</td>\n",
              "    </tr>\n",
              "    <tr>\n",
              "      <th>204</th>\n",
              "      <td>-1</td>\n",
              "      <td>0</td>\n",
              "      <td>0</td>\n",
              "      <td>1</td>\n",
              "      <td>0</td>\n",
              "      <td>109.1</td>\n",
              "      <td>188.8</td>\n",
              "      <td>68.9</td>\n",
              "      <td>55.5</td>\n",
              "      <td>3062</td>\n",
              "      <td>4</td>\n",
              "      <td>141</td>\n",
              "      <td>3.78</td>\n",
              "      <td>3.15</td>\n",
              "      <td>9.5</td>\n",
              "      <td>114</td>\n",
              "      <td>5400</td>\n",
              "      <td>19</td>\n",
              "      <td>25</td>\n",
              "      <td>0</td>\n",
              "      <td>0</td>\n",
              "      <td>0</td>\n",
              "      <td>1</td>\n",
              "      <td>0</td>\n",
              "      <td>0</td>\n",
              "      <td>0</td>\n",
              "      <td>1</td>\n",
              "      <td>0</td>\n",
              "      <td>0</td>\n",
              "      <td>0</td>\n",
              "      <td>1</td>\n",
              "      <td>0</td>\n",
              "      <td>0</td>\n",
              "      <td>0</td>\n",
              "      <td>0</td>\n",
              "      <td>0</td>\n",
              "      <td>0</td>\n",
              "      <td>0</td>\n",
              "      <td>0</td>\n",
              "      <td>1</td>\n",
              "      <td>0</td>\n",
              "      <td>0</td>\n",
              "    </tr>\n",
              "  </tbody>\n",
              "</table>\n",
              "<p>205 rows × 42 columns</p>\n",
              "</div>"
            ],
            "text/plain": [
              "     symboling  fueltype  aspiration  ...  ET_mpfi  ET_spdi  ET_spfi\n",
              "0            3         0           0  ...        1        0        0\n",
              "1            3         0           0  ...        1        0        0\n",
              "2            1         0           0  ...        1        0        0\n",
              "3            2         0           0  ...        1        0        0\n",
              "4            2         0           0  ...        1        0        0\n",
              "..         ...       ...         ...  ...      ...      ...      ...\n",
              "200         -1         0           0  ...        1        0        0\n",
              "201         -1         0           0  ...        1        0        0\n",
              "202         -1         0           0  ...        1        0        0\n",
              "203         -1         0           0  ...        0        0        0\n",
              "204         -1         0           0  ...        1        0        0\n",
              "\n",
              "[205 rows x 42 columns]"
            ]
          },
          "metadata": {
            "tags": []
          },
          "execution_count": 21
        }
      ]
    },
    {
      "cell_type": "code",
      "metadata": {
        "id": "huY-j0h-wNBh"
      },
      "source": [
        "x_train,x_test,y_train,y_test=train_test_split(x,y,train_size=0.7,random_state=123)"
      ],
      "execution_count": 22,
      "outputs": []
    },
    {
      "cell_type": "code",
      "metadata": {
        "colab": {
          "base_uri": "https://localhost:8080/"
        },
        "id": "Bborw1IOwNBh",
        "outputId": "c9cadec8-0113-4c47-f377-add7ab28472e"
      },
      "source": [
        "scaler = StandardScaler()\n",
        "scaler.fit(x_train)"
      ],
      "execution_count": 23,
      "outputs": [
        {
          "output_type": "execute_result",
          "data": {
            "text/plain": [
              "StandardScaler(copy=True, with_mean=True, with_std=True)"
            ]
          },
          "metadata": {
            "tags": []
          },
          "execution_count": 23
        }
      ]
    },
    {
      "cell_type": "code",
      "metadata": {
        "id": "RrLv-Od0wNBh"
      },
      "source": [
        "x_train =pd.DataFrame(scaler.transform(x_train),columns=x_train.columns)\n",
        "x_test=pd.DataFrame(scaler.transform(x_test),columns=x_test.columns)"
      ],
      "execution_count": 24,
      "outputs": []
    },
    {
      "cell_type": "code",
      "metadata": {
        "id": "IfQwobZzwNBi"
      },
      "source": [
        "part_x_train,x_val,part_y_train,y_val=train_test_split(x_train,y_train,test_size=0.2,random_state=2)"
      ],
      "execution_count": 25,
      "outputs": []
    },
    {
      "cell_type": "code",
      "metadata": {
        "id": "xZ3skWaWwNBi"
      },
      "source": [
        "model = Sequential()\n",
        "model.add(Dense(12, input_dim=42, kernel_initializer='normal', activation='relu'))\n",
        "model.add(Dense(8, activation='relu'))\n",
        "model.add(Dense(1, activation='linear'))\n",
        "model.compile(loss='mse', optimizer='adam', metrics=['mse','mae'])"
      ],
      "execution_count": 26,
      "outputs": []
    },
    {
      "cell_type": "code",
      "metadata": {
        "colab": {
          "base_uri": "https://localhost:8080/"
        },
        "id": "e8nwAKvmwNBj",
        "outputId": "797105e4-ba85-474e-b059-179189d8fe5d"
      },
      "source": [
        "history=model.fit(part_x_train,part_y_train,epochs=100,validation_data=(x_val,y_val),batch_size=512)"
      ],
      "execution_count": 27,
      "outputs": [
        {
          "output_type": "stream",
          "text": [
            "Epoch 1/100\n",
            "1/1 [==============================] - 1s 874ms/step - loss: 263501184.0000 - mse: 263501184.0000 - mae: 14127.9971 - val_loss: 334181984.0000 - val_mse: 334181984.0000 - val_mae: 14966.4521\n",
            "Epoch 2/100\n",
            "1/1 [==============================] - 0s 40ms/step - loss: 263500368.0000 - mse: 263500368.0000 - mae: 14127.9766 - val_loss: 334180896.0000 - val_mse: 334180896.0000 - val_mae: 14966.4287\n",
            "Epoch 3/100\n",
            "1/1 [==============================] - 0s 37ms/step - loss: 263499600.0000 - mse: 263499600.0000 - mae: 14127.9570 - val_loss: 334179776.0000 - val_mse: 334179776.0000 - val_mae: 14966.4082\n",
            "Epoch 4/100\n",
            "1/1 [==============================] - 0s 40ms/step - loss: 263498800.0000 - mse: 263498800.0000 - mae: 14127.9375 - val_loss: 334178720.0000 - val_mse: 334178720.0000 - val_mae: 14966.3877\n",
            "Epoch 5/100\n",
            "1/1 [==============================] - 0s 38ms/step - loss: 263498032.0000 - mse: 263498032.0000 - mae: 14127.9189 - val_loss: 334177632.0000 - val_mse: 334177632.0000 - val_mae: 14966.3662\n",
            "Epoch 6/100\n",
            "1/1 [==============================] - 0s 44ms/step - loss: 263497248.0000 - mse: 263497248.0000 - mae: 14127.8984 - val_loss: 334176544.0000 - val_mse: 334176544.0000 - val_mae: 14966.3447\n",
            "Epoch 7/100\n",
            "1/1 [==============================] - 0s 38ms/step - loss: 263496432.0000 - mse: 263496432.0000 - mae: 14127.8789 - val_loss: 334175328.0000 - val_mse: 334175328.0000 - val_mae: 14966.3223\n",
            "Epoch 8/100\n",
            "1/1 [==============================] - 0s 37ms/step - loss: 263495632.0000 - mse: 263495632.0000 - mae: 14127.8584 - val_loss: 334174176.0000 - val_mse: 334174176.0000 - val_mae: 14966.2998\n",
            "Epoch 9/100\n",
            "1/1 [==============================] - 0s 38ms/step - loss: 263494800.0000 - mse: 263494800.0000 - mae: 14127.8379 - val_loss: 334172960.0000 - val_mse: 334172960.0000 - val_mae: 14966.2773\n",
            "Epoch 10/100\n",
            "1/1 [==============================] - 0s 40ms/step - loss: 263493952.0000 - mse: 263493952.0000 - mae: 14127.8184 - val_loss: 334171744.0000 - val_mse: 334171744.0000 - val_mae: 14966.2520\n",
            "Epoch 11/100\n",
            "1/1 [==============================] - 0s 38ms/step - loss: 263493136.0000 - mse: 263493136.0000 - mae: 14127.7969 - val_loss: 334170560.0000 - val_mse: 334170560.0000 - val_mae: 14966.2285\n",
            "Epoch 12/100\n",
            "1/1 [==============================] - 0s 33ms/step - loss: 263492224.0000 - mse: 263492224.0000 - mae: 14127.7764 - val_loss: 334169312.0000 - val_mse: 334169312.0000 - val_mae: 14966.2051\n",
            "Epoch 13/100\n",
            "1/1 [==============================] - 0s 35ms/step - loss: 263491376.0000 - mse: 263491376.0000 - mae: 14127.7529 - val_loss: 334168064.0000 - val_mse: 334168064.0000 - val_mae: 14966.1787\n",
            "Epoch 14/100\n",
            "1/1 [==============================] - 0s 39ms/step - loss: 263490448.0000 - mse: 263490448.0000 - mae: 14127.7314 - val_loss: 334166784.0000 - val_mse: 334166784.0000 - val_mae: 14966.1553\n",
            "Epoch 15/100\n",
            "1/1 [==============================] - 0s 49ms/step - loss: 263489536.0000 - mse: 263489536.0000 - mae: 14127.7080 - val_loss: 334165440.0000 - val_mse: 334165440.0000 - val_mae: 14966.1289\n",
            "Epoch 16/100\n",
            "1/1 [==============================] - 0s 35ms/step - loss: 263488576.0000 - mse: 263488576.0000 - mae: 14127.6846 - val_loss: 334164192.0000 - val_mse: 334164192.0000 - val_mae: 14966.1025\n",
            "Epoch 17/100\n",
            "1/1 [==============================] - 0s 39ms/step - loss: 263487600.0000 - mse: 263487600.0000 - mae: 14127.6592 - val_loss: 334162752.0000 - val_mse: 334162752.0000 - val_mae: 14966.0752\n",
            "Epoch 18/100\n",
            "1/1 [==============================] - 0s 38ms/step - loss: 263486592.0000 - mse: 263486592.0000 - mae: 14127.6348 - val_loss: 334161280.0000 - val_mse: 334161280.0000 - val_mae: 14966.0479\n",
            "Epoch 19/100\n",
            "1/1 [==============================] - 0s 39ms/step - loss: 263485504.0000 - mse: 263485504.0000 - mae: 14127.6094 - val_loss: 334159776.0000 - val_mse: 334159776.0000 - val_mae: 14966.0195\n",
            "Epoch 20/100\n",
            "1/1 [==============================] - 0s 40ms/step - loss: 263484448.0000 - mse: 263484448.0000 - mae: 14127.5820 - val_loss: 334158208.0000 - val_mse: 334158208.0000 - val_mae: 14965.9873\n",
            "Epoch 21/100\n",
            "1/1 [==============================] - 0s 39ms/step - loss: 263483328.0000 - mse: 263483328.0000 - mae: 14127.5547 - val_loss: 334156608.0000 - val_mse: 334156608.0000 - val_mae: 14965.9570\n",
            "Epoch 22/100\n",
            "1/1 [==============================] - 0s 38ms/step - loss: 263482176.0000 - mse: 263482176.0000 - mae: 14127.5283 - val_loss: 334154976.0000 - val_mse: 334154976.0000 - val_mae: 14965.9268\n",
            "Epoch 23/100\n",
            "1/1 [==============================] - 0s 35ms/step - loss: 263481008.0000 - mse: 263481008.0000 - mae: 14127.5000 - val_loss: 334153312.0000 - val_mse: 334153312.0000 - val_mae: 14965.8926\n",
            "Epoch 24/100\n",
            "1/1 [==============================] - 0s 36ms/step - loss: 263479792.0000 - mse: 263479792.0000 - mae: 14127.4727 - val_loss: 334151584.0000 - val_mse: 334151584.0000 - val_mae: 14965.8604\n",
            "Epoch 25/100\n",
            "1/1 [==============================] - 0s 35ms/step - loss: 263478576.0000 - mse: 263478576.0000 - mae: 14127.4434 - val_loss: 334149760.0000 - val_mse: 334149760.0000 - val_mae: 14965.8252\n",
            "Epoch 26/100\n",
            "1/1 [==============================] - 0s 37ms/step - loss: 263477312.0000 - mse: 263477312.0000 - mae: 14127.4121 - val_loss: 334147968.0000 - val_mse: 334147968.0000 - val_mae: 14965.7910\n",
            "Epoch 27/100\n",
            "1/1 [==============================] - 0s 36ms/step - loss: 263476016.0000 - mse: 263476016.0000 - mae: 14127.3809 - val_loss: 334146112.0000 - val_mse: 334146112.0000 - val_mae: 14965.7539\n",
            "Epoch 28/100\n",
            "1/1 [==============================] - 0s 38ms/step - loss: 263474656.0000 - mse: 263474656.0000 - mae: 14127.3506 - val_loss: 334144128.0000 - val_mse: 334144128.0000 - val_mae: 14965.7188\n",
            "Epoch 29/100\n",
            "1/1 [==============================] - 0s 36ms/step - loss: 263473264.0000 - mse: 263473264.0000 - mae: 14127.3164 - val_loss: 334142176.0000 - val_mse: 334142176.0000 - val_mae: 14965.6787\n",
            "Epoch 30/100\n",
            "1/1 [==============================] - 0s 40ms/step - loss: 263471856.0000 - mse: 263471856.0000 - mae: 14127.2842 - val_loss: 334140096.0000 - val_mse: 334140096.0000 - val_mae: 14965.6387\n",
            "Epoch 31/100\n",
            "1/1 [==============================] - 0s 42ms/step - loss: 263470400.0000 - mse: 263470400.0000 - mae: 14127.2490 - val_loss: 334138048.0000 - val_mse: 334138048.0000 - val_mae: 14965.5977\n",
            "Epoch 32/100\n",
            "1/1 [==============================] - 0s 42ms/step - loss: 263468912.0000 - mse: 263468912.0000 - mae: 14127.2148 - val_loss: 334135872.0000 - val_mse: 334135872.0000 - val_mae: 14965.5566\n",
            "Epoch 33/100\n",
            "1/1 [==============================] - 0s 38ms/step - loss: 263467360.0000 - mse: 263467360.0000 - mae: 14127.1777 - val_loss: 334133664.0000 - val_mse: 334133664.0000 - val_mae: 14965.5146\n",
            "Epoch 34/100\n",
            "1/1 [==============================] - 0s 37ms/step - loss: 263465792.0000 - mse: 263465792.0000 - mae: 14127.1416 - val_loss: 334131392.0000 - val_mse: 334131392.0000 - val_mae: 14965.4697\n",
            "Epoch 35/100\n",
            "1/1 [==============================] - 0s 43ms/step - loss: 263464176.0000 - mse: 263464176.0000 - mae: 14127.1035 - val_loss: 334129056.0000 - val_mse: 334129056.0000 - val_mae: 14965.4248\n",
            "Epoch 36/100\n",
            "1/1 [==============================] - 0s 46ms/step - loss: 263462480.0000 - mse: 263462480.0000 - mae: 14127.0635 - val_loss: 334126688.0000 - val_mse: 334126688.0000 - val_mae: 14965.3789\n",
            "Epoch 37/100\n",
            "1/1 [==============================] - 0s 40ms/step - loss: 263460768.0000 - mse: 263460768.0000 - mae: 14127.0215 - val_loss: 334124288.0000 - val_mse: 334124288.0000 - val_mae: 14965.3340\n",
            "Epoch 38/100\n",
            "1/1 [==============================] - 0s 43ms/step - loss: 263459008.0000 - mse: 263459008.0000 - mae: 14126.9824 - val_loss: 334121792.0000 - val_mse: 334121792.0000 - val_mae: 14965.2852\n",
            "Epoch 39/100\n",
            "1/1 [==============================] - 0s 38ms/step - loss: 263457216.0000 - mse: 263457216.0000 - mae: 14126.9395 - val_loss: 334119232.0000 - val_mse: 334119232.0000 - val_mae: 14965.2373\n",
            "Epoch 40/100\n",
            "1/1 [==============================] - 0s 37ms/step - loss: 263455408.0000 - mse: 263455408.0000 - mae: 14126.8955 - val_loss: 334116640.0000 - val_mse: 334116640.0000 - val_mae: 14965.1885\n",
            "Epoch 41/100\n",
            "1/1 [==============================] - 0s 38ms/step - loss: 263453504.0000 - mse: 263453504.0000 - mae: 14126.8535 - val_loss: 334113984.0000 - val_mse: 334113984.0000 - val_mae: 14965.1357\n",
            "Epoch 42/100\n",
            "1/1 [==============================] - 0s 39ms/step - loss: 263451584.0000 - mse: 263451584.0000 - mae: 14126.8086 - val_loss: 334111264.0000 - val_mse: 334111264.0000 - val_mae: 14965.0840\n",
            "Epoch 43/100\n",
            "1/1 [==============================] - 0s 38ms/step - loss: 263449600.0000 - mse: 263449600.0000 - mae: 14126.7617 - val_loss: 334108448.0000 - val_mse: 334108448.0000 - val_mae: 14965.0322\n",
            "Epoch 44/100\n",
            "1/1 [==============================] - 0s 38ms/step - loss: 263447584.0000 - mse: 263447584.0000 - mae: 14126.7148 - val_loss: 334105632.0000 - val_mse: 334105632.0000 - val_mae: 14964.9766\n",
            "Epoch 45/100\n",
            "1/1 [==============================] - 0s 47ms/step - loss: 263445520.0000 - mse: 263445520.0000 - mae: 14126.6670 - val_loss: 334102720.0000 - val_mse: 334102720.0000 - val_mae: 14964.9199\n",
            "Epoch 46/100\n",
            "1/1 [==============================] - 0s 44ms/step - loss: 263443408.0000 - mse: 263443408.0000 - mae: 14126.6182 - val_loss: 334099744.0000 - val_mse: 334099744.0000 - val_mae: 14964.8643\n",
            "Epoch 47/100\n",
            "1/1 [==============================] - 0s 40ms/step - loss: 263441248.0000 - mse: 263441248.0000 - mae: 14126.5684 - val_loss: 334096672.0000 - val_mse: 334096672.0000 - val_mae: 14964.8057\n",
            "Epoch 48/100\n",
            "1/1 [==============================] - 0s 44ms/step - loss: 263439040.0000 - mse: 263439040.0000 - mae: 14126.5166 - val_loss: 334093568.0000 - val_mse: 334093568.0000 - val_mae: 14964.7471\n",
            "Epoch 49/100\n",
            "1/1 [==============================] - 0s 40ms/step - loss: 263436768.0000 - mse: 263436768.0000 - mae: 14126.4629 - val_loss: 334090368.0000 - val_mse: 334090368.0000 - val_mae: 14964.6865\n",
            "Epoch 50/100\n",
            "1/1 [==============================] - 0s 43ms/step - loss: 263434448.0000 - mse: 263434448.0000 - mae: 14126.4102 - val_loss: 334087104.0000 - val_mse: 334087104.0000 - val_mae: 14964.6240\n",
            "Epoch 51/100\n",
            "1/1 [==============================] - 0s 39ms/step - loss: 263432080.0000 - mse: 263432080.0000 - mae: 14126.3545 - val_loss: 334083808.0000 - val_mse: 334083808.0000 - val_mae: 14964.5605\n",
            "Epoch 52/100\n",
            "1/1 [==============================] - 0s 40ms/step - loss: 263429696.0000 - mse: 263429696.0000 - mae: 14126.2998 - val_loss: 334080416.0000 - val_mse: 334080416.0000 - val_mae: 14964.4961\n",
            "Epoch 53/100\n",
            "1/1 [==============================] - 0s 38ms/step - loss: 263427216.0000 - mse: 263427216.0000 - mae: 14126.2402 - val_loss: 334076928.0000 - val_mse: 334076928.0000 - val_mae: 14964.4297\n",
            "Epoch 54/100\n",
            "1/1 [==============================] - 0s 36ms/step - loss: 263424688.0000 - mse: 263424688.0000 - mae: 14126.1807 - val_loss: 334073408.0000 - val_mse: 334073408.0000 - val_mae: 14964.3623\n",
            "Epoch 55/100\n",
            "1/1 [==============================] - 0s 39ms/step - loss: 263422096.0000 - mse: 263422096.0000 - mae: 14126.1230 - val_loss: 334069728.0000 - val_mse: 334069728.0000 - val_mae: 14964.2930\n",
            "Epoch 56/100\n",
            "1/1 [==============================] - 0s 40ms/step - loss: 263419440.0000 - mse: 263419440.0000 - mae: 14126.0596 - val_loss: 334066016.0000 - val_mse: 334066016.0000 - val_mae: 14964.2217\n",
            "Epoch 57/100\n",
            "1/1 [==============================] - 0s 41ms/step - loss: 263416704.0000 - mse: 263416704.0000 - mae: 14125.9980 - val_loss: 334062272.0000 - val_mse: 334062272.0000 - val_mae: 14964.1504\n",
            "Epoch 58/100\n",
            "1/1 [==============================] - 0s 39ms/step - loss: 263413920.0000 - mse: 263413920.0000 - mae: 14125.9346 - val_loss: 334058368.0000 - val_mse: 334058368.0000 - val_mae: 14964.0752\n",
            "Epoch 59/100\n",
            "1/1 [==============================] - 0s 41ms/step - loss: 263411088.0000 - mse: 263411088.0000 - mae: 14125.8672 - val_loss: 334054400.0000 - val_mse: 334054400.0000 - val_mae: 14964.0000\n",
            "Epoch 60/100\n",
            "1/1 [==============================] - 0s 46ms/step - loss: 263408176.0000 - mse: 263408176.0000 - mae: 14125.8018 - val_loss: 334050336.0000 - val_mse: 334050336.0000 - val_mae: 14963.9248\n",
            "Epoch 61/100\n",
            "1/1 [==============================] - 0s 37ms/step - loss: 263405232.0000 - mse: 263405232.0000 - mae: 14125.7324 - val_loss: 334046240.0000 - val_mse: 334046240.0000 - val_mae: 14963.8457\n",
            "Epoch 62/100\n",
            "1/1 [==============================] - 0s 36ms/step - loss: 263402176.0000 - mse: 263402176.0000 - mae: 14125.6621 - val_loss: 334042016.0000 - val_mse: 334042016.0000 - val_mae: 14963.7646\n",
            "Epoch 63/100\n",
            "1/1 [==============================] - 0s 34ms/step - loss: 263399072.0000 - mse: 263399072.0000 - mae: 14125.5918 - val_loss: 334037696.0000 - val_mse: 334037696.0000 - val_mae: 14963.6836\n",
            "Epoch 64/100\n",
            "1/1 [==============================] - 0s 42ms/step - loss: 263395904.0000 - mse: 263395904.0000 - mae: 14125.5166 - val_loss: 334033312.0000 - val_mse: 334033312.0000 - val_mae: 14963.6016\n",
            "Epoch 65/100\n",
            "1/1 [==============================] - 0s 39ms/step - loss: 263392656.0000 - mse: 263392656.0000 - mae: 14125.4434 - val_loss: 334028800.0000 - val_mse: 334028800.0000 - val_mae: 14963.5166\n",
            "Epoch 66/100\n",
            "1/1 [==============================] - 0s 46ms/step - loss: 263389328.0000 - mse: 263389328.0000 - mae: 14125.3672 - val_loss: 334024256.0000 - val_mse: 334024256.0000 - val_mae: 14963.4287\n",
            "Epoch 67/100\n",
            "1/1 [==============================] - 0s 38ms/step - loss: 263385968.0000 - mse: 263385968.0000 - mae: 14125.2881 - val_loss: 334019552.0000 - val_mse: 334019552.0000 - val_mae: 14963.3418\n",
            "Epoch 68/100\n",
            "1/1 [==============================] - 0s 45ms/step - loss: 263382496.0000 - mse: 263382496.0000 - mae: 14125.2090 - val_loss: 334014784.0000 - val_mse: 334014784.0000 - val_mae: 14963.2520\n",
            "Epoch 69/100\n",
            "1/1 [==============================] - 0s 38ms/step - loss: 263378992.0000 - mse: 263378992.0000 - mae: 14125.1289 - val_loss: 334009952.0000 - val_mse: 334009952.0000 - val_mae: 14963.1592\n",
            "Epoch 70/100\n",
            "1/1 [==============================] - 0s 36ms/step - loss: 263375392.0000 - mse: 263375392.0000 - mae: 14125.0469 - val_loss: 334004992.0000 - val_mse: 334004992.0000 - val_mae: 14963.0654\n",
            "Epoch 71/100\n",
            "1/1 [==============================] - 0s 36ms/step - loss: 263371744.0000 - mse: 263371744.0000 - mae: 14124.9629 - val_loss: 334000000.0000 - val_mse: 334000000.0000 - val_mae: 14962.9697\n",
            "Epoch 72/100\n",
            "1/1 [==============================] - 0s 35ms/step - loss: 263367984.0000 - mse: 263367984.0000 - mae: 14124.8770 - val_loss: 333994816.0000 - val_mse: 333994816.0000 - val_mae: 14962.8730\n",
            "Epoch 73/100\n",
            "1/1 [==============================] - 0s 35ms/step - loss: 263364176.0000 - mse: 263364176.0000 - mae: 14124.7910 - val_loss: 333989600.0000 - val_mse: 333989600.0000 - val_mae: 14962.7754\n",
            "Epoch 74/100\n",
            "1/1 [==============================] - 0s 39ms/step - loss: 263360320.0000 - mse: 263360320.0000 - mae: 14124.7002 - val_loss: 333984224.0000 - val_mse: 333984224.0000 - val_mae: 14962.6758\n",
            "Epoch 75/100\n",
            "1/1 [==============================] - 0s 48ms/step - loss: 263356368.0000 - mse: 263356368.0000 - mae: 14124.6094 - val_loss: 333978848.0000 - val_mse: 333978848.0000 - val_mae: 14962.5732\n",
            "Epoch 76/100\n",
            "1/1 [==============================] - 0s 43ms/step - loss: 263352352.0000 - mse: 263352352.0000 - mae: 14124.5176 - val_loss: 333973280.0000 - val_mse: 333973280.0000 - val_mae: 14962.4688\n",
            "Epoch 77/100\n",
            "1/1 [==============================] - 0s 40ms/step - loss: 263348224.0000 - mse: 263348224.0000 - mae: 14124.4229 - val_loss: 333967680.0000 - val_mse: 333967680.0000 - val_mae: 14962.3623\n",
            "Epoch 78/100\n",
            "1/1 [==============================] - 0s 37ms/step - loss: 263344064.0000 - mse: 263344064.0000 - mae: 14124.3291 - val_loss: 333961984.0000 - val_mse: 333961984.0000 - val_mae: 14962.2568\n",
            "Epoch 79/100\n",
            "1/1 [==============================] - 0s 35ms/step - loss: 263339792.0000 - mse: 263339792.0000 - mae: 14124.2314 - val_loss: 333956128.0000 - val_mse: 333956128.0000 - val_mae: 14962.1445\n",
            "Epoch 80/100\n",
            "1/1 [==============================] - 0s 36ms/step - loss: 263335488.0000 - mse: 263335488.0000 - mae: 14124.1318 - val_loss: 333950208.0000 - val_mse: 333950208.0000 - val_mae: 14962.0342\n",
            "Epoch 81/100\n",
            "1/1 [==============================] - 0s 38ms/step - loss: 263331088.0000 - mse: 263331088.0000 - mae: 14124.0322 - val_loss: 333944192.0000 - val_mse: 333944192.0000 - val_mae: 14961.9189\n",
            "Epoch 82/100\n",
            "1/1 [==============================] - 0s 41ms/step - loss: 263326592.0000 - mse: 263326592.0000 - mae: 14123.9287 - val_loss: 333938016.0000 - val_mse: 333938016.0000 - val_mae: 14961.8047\n",
            "Epoch 83/100\n",
            "1/1 [==============================] - 0s 51ms/step - loss: 263322032.0000 - mse: 263322032.0000 - mae: 14123.8242 - val_loss: 333931776.0000 - val_mse: 333931776.0000 - val_mae: 14961.6865\n",
            "Epoch 84/100\n",
            "1/1 [==============================] - 0s 40ms/step - loss: 263317408.0000 - mse: 263317408.0000 - mae: 14123.7178 - val_loss: 333925408.0000 - val_mse: 333925408.0000 - val_mae: 14961.5654\n",
            "Epoch 85/100\n",
            "1/1 [==============================] - 0s 42ms/step - loss: 263312688.0000 - mse: 263312688.0000 - mae: 14123.6094 - val_loss: 333918944.0000 - val_mse: 333918944.0000 - val_mae: 14961.4463\n",
            "Epoch 86/100\n",
            "1/1 [==============================] - 0s 35ms/step - loss: 263307888.0000 - mse: 263307888.0000 - mae: 14123.5000 - val_loss: 333912352.0000 - val_mse: 333912352.0000 - val_mae: 14961.3213\n",
            "Epoch 87/100\n",
            "1/1 [==============================] - 0s 40ms/step - loss: 263302976.0000 - mse: 263302976.0000 - mae: 14123.3877 - val_loss: 333905664.0000 - val_mse: 333905664.0000 - val_mae: 14961.1943\n",
            "Epoch 88/100\n",
            "1/1 [==============================] - 0s 41ms/step - loss: 263298032.0000 - mse: 263298032.0000 - mae: 14123.2744 - val_loss: 333898848.0000 - val_mse: 333898848.0000 - val_mae: 14961.0664\n",
            "Epoch 89/100\n",
            "1/1 [==============================] - 0s 37ms/step - loss: 263292944.0000 - mse: 263292944.0000 - mae: 14123.1582 - val_loss: 333891936.0000 - val_mse: 333891936.0000 - val_mae: 14960.9365\n",
            "Epoch 90/100\n",
            "1/1 [==============================] - 0s 48ms/step - loss: 263287776.0000 - mse: 263287776.0000 - mae: 14123.0391 - val_loss: 333884864.0000 - val_mse: 333884864.0000 - val_mae: 14960.8037\n",
            "Epoch 91/100\n",
            "1/1 [==============================] - 0s 42ms/step - loss: 263282544.0000 - mse: 263282544.0000 - mae: 14122.9209 - val_loss: 333877728.0000 - val_mse: 333877728.0000 - val_mae: 14960.6699\n",
            "Epoch 92/100\n",
            "1/1 [==============================] - 0s 45ms/step - loss: 263277216.0000 - mse: 263277216.0000 - mae: 14122.7998 - val_loss: 333870496.0000 - val_mse: 333870496.0000 - val_mae: 14960.5332\n",
            "Epoch 93/100\n",
            "1/1 [==============================] - 0s 43ms/step - loss: 263271808.0000 - mse: 263271808.0000 - mae: 14122.6758 - val_loss: 333863040.0000 - val_mse: 333863040.0000 - val_mae: 14960.3936\n",
            "Epoch 94/100\n",
            "1/1 [==============================] - 0s 45ms/step - loss: 263266288.0000 - mse: 263266288.0000 - mae: 14122.5498 - val_loss: 333855552.0000 - val_mse: 333855552.0000 - val_mae: 14960.2520\n",
            "Epoch 95/100\n",
            "1/1 [==============================] - 0s 48ms/step - loss: 263260688.0000 - mse: 263260688.0000 - mae: 14122.4219 - val_loss: 333847936.0000 - val_mse: 333847936.0000 - val_mae: 14960.1074\n",
            "Epoch 96/100\n",
            "1/1 [==============================] - 0s 51ms/step - loss: 263254992.0000 - mse: 263254992.0000 - mae: 14122.2910 - val_loss: 333840160.0000 - val_mse: 333840160.0000 - val_mae: 14959.9619\n",
            "Epoch 97/100\n",
            "1/1 [==============================] - 0s 41ms/step - loss: 263249200.0000 - mse: 263249200.0000 - mae: 14122.1602 - val_loss: 333832288.0000 - val_mse: 333832288.0000 - val_mae: 14959.8145\n",
            "Epoch 98/100\n",
            "1/1 [==============================] - 0s 47ms/step - loss: 263243312.0000 - mse: 263243312.0000 - mae: 14122.0264 - val_loss: 333824320.0000 - val_mse: 333824320.0000 - val_mae: 14959.6641\n",
            "Epoch 99/100\n",
            "1/1 [==============================] - 0s 36ms/step - loss: 263237344.0000 - mse: 263237344.0000 - mae: 14121.8896 - val_loss: 333816192.0000 - val_mse: 333816192.0000 - val_mae: 14959.5117\n",
            "Epoch 100/100\n",
            "1/1 [==============================] - 0s 47ms/step - loss: 263231280.0000 - mse: 263231280.0000 - mae: 14121.7500 - val_loss: 333807936.0000 - val_mse: 333807936.0000 - val_mae: 14959.3564\n"
          ],
          "name": "stdout"
        }
      ]
    },
    {
      "cell_type": "code",
      "metadata": {
        "colab": {
          "base_uri": "https://localhost:8080/"
        },
        "id": "r2Nlydw7wNBk",
        "outputId": "b5bb8391-a5e2-47d0-dd06-f0084ef91f94"
      },
      "source": [
        "model.evaluate(x_test,y_test)"
      ],
      "execution_count": 28,
      "outputs": [
        {
          "output_type": "stream",
          "text": [
            "2/2 [==============================] - 0s 4ms/step - loss: 151836608.0000 - mse: 151836608.0000 - mae: 10915.9766\n"
          ],
          "name": "stdout"
        },
        {
          "output_type": "execute_result",
          "data": {
            "text/plain": [
              "[151836608.0, 151836608.0, 10915.9765625]"
            ]
          },
          "metadata": {
            "tags": []
          },
          "execution_count": 28
        }
      ]
    },
    {
      "cell_type": "code",
      "metadata": {
        "colab": {
          "base_uri": "https://localhost:8080/"
        },
        "id": "lo2q12KlwNBk",
        "outputId": "b0b0d1c7-75c4-4ce2-8538-7d6a8db0a851"
      },
      "source": [
        "model.predict(x_test).sum()\n"
      ],
      "execution_count": 29,
      "outputs": [
        {
          "output_type": "execute_result",
          "data": {
            "text/plain": [
              "290.441"
            ]
          },
          "metadata": {
            "tags": []
          },
          "execution_count": 29
        }
      ]
    },
    {
      "cell_type": "code",
      "metadata": {
        "id": "Js3UV6eDwNBl"
      },
      "source": [
        ""
      ],
      "execution_count": null,
      "outputs": []
    },
    {
      "cell_type": "code",
      "metadata": {
        "id": "F26eV9ENwNBl"
      },
      "source": [
        ""
      ],
      "execution_count": null,
      "outputs": []
    },
    {
      "cell_type": "code",
      "metadata": {
        "id": "HL2BWOyMwNBl"
      },
      "source": [
        ""
      ],
      "execution_count": null,
      "outputs": []
    },
    {
      "cell_type": "code",
      "metadata": {
        "id": "eEV4jLGMwNBm"
      },
      "source": [
        ""
      ],
      "execution_count": null,
      "outputs": []
    }
  ]
}