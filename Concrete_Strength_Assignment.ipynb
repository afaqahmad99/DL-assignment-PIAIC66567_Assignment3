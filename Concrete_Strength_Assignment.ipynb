{
  "nbformat": 4,
  "nbformat_minor": 0,
  "metadata": {
    "kernelspec": {
      "display_name": "Python 3",
      "language": "python",
      "name": "python3"
    },
    "language_info": {
      "codemirror_mode": {
        "name": "ipython",
        "version": 3
      },
      "file_extension": ".py",
      "mimetype": "text/x-python",
      "name": "python",
      "nbconvert_exporter": "python",
      "pygments_lexer": "ipython3",
      "version": "3.7.4"
    },
    "colab": {
      "name": "Concrete Strength Assignment.ipynb",
      "provenance": []
    }
  },
  "cells": [
    {
      "cell_type": "markdown",
      "metadata": {
        "id": "6Qu75N3c2DfJ"
      },
      "source": [
        "# Assignment: Compresive Strength Concrete Problem\n",
        "# Abstract:\n",
        "Concrete is the most important material in civil engineering. The concrete compressive strength (concrete strength to bear the load) is a highly nonlinear function of age and ingredients.\n",
        "\n",
        "\n",
        "Data Set Characteristics:  \n",
        "\n",
        "Multivariate\n",
        "\n",
        "Number of Instances:\n",
        "\n",
        "1030\n",
        "\n",
        "Area:\n",
        "\n",
        "Physical\n",
        "\n",
        "Attribute Characteristics:\n",
        "\n",
        "Real\n",
        "\n",
        "Number of Attributes:\n",
        "\n",
        "9\n",
        "\n",
        "Date Donated\n",
        "\n",
        "2007-08-03\n",
        "\n",
        "Associated Tasks:\n",
        "\n",
        "Regression\n",
        "\n",
        "Missing Values?\n",
        "\n",
        "N/A\n",
        "\n",
        "Number of Web Hits:\n",
        "\n",
        "231464\n",
        "\n",
        "# Description:\n",
        "Features Name\tData Type\tMeasurement\tDescription\n",
        "Cement (component 1) | quantitative | kg in a m3 mixture | Input Variable Blast Furnace Slag (component 2) | quantitative | kg in a m3 mixture | Input Variable Fly Ash (component 3) | quantitative | kg in a m3 mixture | Input Variable Water (component 4) | quantitative | kg in a m3 mixture | Input Variable Superplasticizer (component 5) | quantitative | kg in a m3 mixture | Input Variable Coarse Aggregate (component 6) | quantitative | kg in a m3 mixture | Input Variable Fine Aggregate (component 7) | quantitative | kg in a m3 mixture | Input Variable Age | quantitative | Day (1~365) | Input Variable Concrete compressive strength | quantitative | MPa | Output Variable\n",
        "\n",
        "# WORKFLOW :\n",
        "Load Data\n",
        "Check Missing Values ( If Exist ; Fill each record with mean of its feature )\n",
        "Standardized the Input Variables. Hint: Centeralized the data\n",
        "Split into 50% Training(Samples,Labels) , 30% Test(Samples,Labels) and 20% Validation Data(Samples,Labels).\n",
        "Model : input Layer (No. of features ), 3 hidden layers including 10,8,6 unit & Output Layer with activation function relu/tanh (check by experiment).\n",
        "Compilation Step (Note : Its a Regression problem , select loss , metrics according to it)\n",
        "Train the Model with Epochs (100) and validate it\n",
        "If the model gets overfit tune your model by changing the units , No. of layers , activation function , epochs , add dropout layer or add Regularizer according to the need .\n",
        "Evaluation Step\n",
        "Prediction\n",
        "# Load Data:\n",
        "Click Here to Download DataSet"
      ]
    },
    {
      "cell_type": "code",
      "metadata": {
        "id": "wuPpbE532DfZ"
      },
      "source": [
        "import pandas as pd\n",
        "import numpy as np\n",
        "import matplotlib.pyplot as plt\n",
        "from sklearn.preprocessing import StandardScaler\n",
        "from sklearn.model_selection import train_test_split\n",
        "import tensorflow as tf\n",
        "from tensorflow.keras import models,layers,optimizers,utils\n",
        "from tensorflow.keras.utils import to_categorical\n",
        "from tensorflow.keras.models import Sequential\n",
        "from tensorflow.keras.layers import Dense\n",
        "import math\n",
        "from sklearn.metrics import mean_squared_error"
      ],
      "execution_count": 1,
      "outputs": []
    },
    {
      "cell_type": "code",
      "metadata": {
        "colab": {
          "resources": {
            "http://localhost:8080/nbextensions/google.colab/files.js": {
              "data": "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",
              "ok": true,
              "headers": [
                [
                  "content-type",
                  "application/javascript"
                ]
              ],
              "status": 200,
              "status_text": ""
            }
          },
          "base_uri": "https://localhost:8080/",
          "height": 72
        },
        "id": "u2XfuK8H2Dfd",
        "outputId": "494e42ea-49b2-4231-ba64-19c4859332a2"
      },
      "source": [
        "import io\n",
        "from google.colab import files\n",
        "uploaded = files.upload()"
      ],
      "execution_count": 3,
      "outputs": [
        {
          "output_type": "display_data",
          "data": {
            "text/html": [
              "\n",
              "     <input type=\"file\" id=\"files-309f1431-e100-4fb7-b990-e20f0d6b4b8d\" name=\"files[]\" multiple disabled\n",
              "        style=\"border:none\" />\n",
              "     <output id=\"result-309f1431-e100-4fb7-b990-e20f0d6b4b8d\">\n",
              "      Upload widget is only available when the cell has been executed in the\n",
              "      current browser session. Please rerun this cell to enable.\n",
              "      </output>\n",
              "      <script src=\"/nbextensions/google.colab/files.js\"></script> "
            ],
            "text/plain": [
              "<IPython.core.display.HTML object>"
            ]
          },
          "metadata": {
            "tags": []
          }
        },
        {
          "output_type": "stream",
          "text": [
            "Saving compresive_strength_concrete.csv to compresive_strength_concrete.csv\n"
          ],
          "name": "stdout"
        }
      ]
    },
    {
      "cell_type": "code",
      "metadata": {
        "colab": {
          "base_uri": "https://localhost:8080/",
          "height": 255
        },
        "id": "2DTPJ0lx2Dfe",
        "outputId": "5ce517b4-236a-42a7-a685-32eb229028a7"
      },
      "source": [
        "df = pd.read_csv(io.BytesIO(uploaded['compresive_strength_concrete.csv']))\n",
        "df.head()\n"
      ],
      "execution_count": 6,
      "outputs": [
        {
          "output_type": "execute_result",
          "data": {
            "text/html": [
              "<div>\n",
              "<style scoped>\n",
              "    .dataframe tbody tr th:only-of-type {\n",
              "        vertical-align: middle;\n",
              "    }\n",
              "\n",
              "    .dataframe tbody tr th {\n",
              "        vertical-align: top;\n",
              "    }\n",
              "\n",
              "    .dataframe thead th {\n",
              "        text-align: right;\n",
              "    }\n",
              "</style>\n",
              "<table border=\"1\" class=\"dataframe\">\n",
              "  <thead>\n",
              "    <tr style=\"text-align: right;\">\n",
              "      <th></th>\n",
              "      <th>Cement (component 1)(kg in a m^3 mixture)</th>\n",
              "      <th>Blast Furnace Slag (component 2)(kg in a m^3 mixture)</th>\n",
              "      <th>Fly Ash (component 3)(kg in a m^3 mixture)</th>\n",
              "      <th>Water  (component 4)(kg in a m^3 mixture)</th>\n",
              "      <th>Superplasticizer (component 5)(kg in a m^3 mixture)</th>\n",
              "      <th>Coarse Aggregate  (component 6)(kg in a m^3 mixture)</th>\n",
              "      <th>Fine Aggregate (component 7)(kg in a m^3 mixture)</th>\n",
              "      <th>Age (day)</th>\n",
              "      <th>Concrete compressive strength(MPa, megapascals)</th>\n",
              "    </tr>\n",
              "  </thead>\n",
              "  <tbody>\n",
              "    <tr>\n",
              "      <th>0</th>\n",
              "      <td>540.0</td>\n",
              "      <td>0.0</td>\n",
              "      <td>0.0</td>\n",
              "      <td>162.0</td>\n",
              "      <td>2.5</td>\n",
              "      <td>1040.0</td>\n",
              "      <td>676.0</td>\n",
              "      <td>28</td>\n",
              "      <td>79.99</td>\n",
              "    </tr>\n",
              "    <tr>\n",
              "      <th>1</th>\n",
              "      <td>540.0</td>\n",
              "      <td>0.0</td>\n",
              "      <td>0.0</td>\n",
              "      <td>162.0</td>\n",
              "      <td>2.5</td>\n",
              "      <td>1055.0</td>\n",
              "      <td>676.0</td>\n",
              "      <td>28</td>\n",
              "      <td>61.89</td>\n",
              "    </tr>\n",
              "    <tr>\n",
              "      <th>2</th>\n",
              "      <td>332.5</td>\n",
              "      <td>142.5</td>\n",
              "      <td>0.0</td>\n",
              "      <td>228.0</td>\n",
              "      <td>0.0</td>\n",
              "      <td>932.0</td>\n",
              "      <td>594.0</td>\n",
              "      <td>270</td>\n",
              "      <td>40.27</td>\n",
              "    </tr>\n",
              "    <tr>\n",
              "      <th>3</th>\n",
              "      <td>332.5</td>\n",
              "      <td>142.5</td>\n",
              "      <td>0.0</td>\n",
              "      <td>228.0</td>\n",
              "      <td>0.0</td>\n",
              "      <td>932.0</td>\n",
              "      <td>594.0</td>\n",
              "      <td>365</td>\n",
              "      <td>41.05</td>\n",
              "    </tr>\n",
              "    <tr>\n",
              "      <th>4</th>\n",
              "      <td>198.6</td>\n",
              "      <td>132.4</td>\n",
              "      <td>0.0</td>\n",
              "      <td>192.0</td>\n",
              "      <td>0.0</td>\n",
              "      <td>978.4</td>\n",
              "      <td>825.5</td>\n",
              "      <td>360</td>\n",
              "      <td>44.30</td>\n",
              "    </tr>\n",
              "  </tbody>\n",
              "</table>\n",
              "</div>"
            ],
            "text/plain": [
              "   Cement (component 1)(kg in a m^3 mixture)  ...  Concrete compressive strength(MPa, megapascals) \n",
              "0                                      540.0  ...                                             79.99\n",
              "1                                      540.0  ...                                             61.89\n",
              "2                                      332.5  ...                                             40.27\n",
              "3                                      332.5  ...                                             41.05\n",
              "4                                      198.6  ...                                             44.30\n",
              "\n",
              "[5 rows x 9 columns]"
            ]
          },
          "metadata": {
            "tags": []
          },
          "execution_count": 6
        }
      ]
    },
    {
      "cell_type": "code",
      "metadata": {
        "id": "XTtN_AvD2Dfe"
      },
      "source": [
        "y=df['Concrete compressive strength(MPa, megapascals) '].copy()\n",
        "x=df.drop('Concrete compressive strength(MPa, megapascals) ', axis=1).copy()"
      ],
      "execution_count": 8,
      "outputs": []
    },
    {
      "cell_type": "code",
      "metadata": {
        "id": "mqtVGZti2Dfg"
      },
      "source": [
        "x_train,x_test,y_train,y_test=train_test_split(x,y,train_size=0.7,random_state=123)"
      ],
      "execution_count": 9,
      "outputs": []
    },
    {
      "cell_type": "code",
      "metadata": {
        "colab": {
          "base_uri": "https://localhost:8080/"
        },
        "id": "5YraRfu72Dfi",
        "outputId": "06bfcda2-7e6d-4c38-d3cd-660a80a728e7"
      },
      "source": [
        "scaler = StandardScaler()\n",
        "scaler.fit(x_train)"
      ],
      "execution_count": 10,
      "outputs": [
        {
          "output_type": "execute_result",
          "data": {
            "text/plain": [
              "StandardScaler(copy=True, with_mean=True, with_std=True)"
            ]
          },
          "metadata": {
            "tags": []
          },
          "execution_count": 10
        }
      ]
    },
    {
      "cell_type": "code",
      "metadata": {
        "id": "SxhASmBW2Dfk"
      },
      "source": [
        "x_train =pd.DataFrame(scaler.transform(x_train),columns=x_train.columns)\n",
        "x_test=pd.DataFrame(scaler.transform(x_test),columns=x_test.columns)"
      ],
      "execution_count": 11,
      "outputs": []
    },
    {
      "cell_type": "code",
      "metadata": {
        "id": "Dkmku1aC2Dfl"
      },
      "source": [
        "part_x_train, x_val, part_y_train, y_val = train_test_split(x_train, y_train, test_size=0.2, random_state=2)"
      ],
      "execution_count": 12,
      "outputs": []
    },
    {
      "cell_type": "code",
      "metadata": {
        "id": "aOQLPLf42Dfl"
      },
      "source": [
        "model = Sequential()\n",
        "model.add(Dense(12, input_dim=8, activation= \"relu\"))\n",
        "model.add(Dense(10, activation= \"relu\"))\n",
        "model.add(Dense(8, activation= \"relu\"))\n",
        "model.add(Dense(6, activation= \"relu\"))\n",
        "model.add(Dense(1,activation=\"relu\"))\n",
        "model.compile(loss= \"mean_squared_error\" , optimizer=\"adam\", metrics=[\"acc\"])\n"
      ],
      "execution_count": 13,
      "outputs": []
    },
    {
      "cell_type": "code",
      "metadata": {
        "colab": {
          "base_uri": "https://localhost:8080/"
        },
        "id": "qXnBANG-2Dfp",
        "outputId": "7d7a6794-626a-4280-ba11-a9a2ed81b795"
      },
      "source": [
        "model.fit(part_x_train,part_y_train,epochs=100,validation_data=(x_val,y_val),batch_size=128)"
      ],
      "execution_count": 14,
      "outputs": [
        {
          "output_type": "stream",
          "text": [
            "Epoch 1/100\n",
            "5/5 [==============================] - 1s 62ms/step - loss: 1620.6061 - acc: 0.0000e+00 - val_loss: 1468.9712 - val_acc: 0.0000e+00\n",
            "Epoch 2/100\n",
            "5/5 [==============================] - 0s 10ms/step - loss: 1604.1180 - acc: 0.0000e+00 - val_loss: 1467.9335 - val_acc: 0.0000e+00\n",
            "Epoch 3/100\n",
            "5/5 [==============================] - 0s 10ms/step - loss: 1634.1195 - acc: 0.0000e+00 - val_loss: 1466.1998 - val_acc: 0.0000e+00\n",
            "Epoch 4/100\n",
            "5/5 [==============================] - 0s 12ms/step - loss: 1629.2814 - acc: 0.0000e+00 - val_loss: 1463.6625 - val_acc: 0.0000e+00\n",
            "Epoch 5/100\n",
            "5/5 [==============================] - 0s 10ms/step - loss: 1655.3951 - acc: 0.0000e+00 - val_loss: 1459.9818 - val_acc: 0.0000e+00\n",
            "Epoch 6/100\n",
            "5/5 [==============================] - 0s 10ms/step - loss: 1602.1503 - acc: 0.0000e+00 - val_loss: 1455.2239 - val_acc: 0.0000e+00\n",
            "Epoch 7/100\n",
            "5/5 [==============================] - 0s 10ms/step - loss: 1577.8149 - acc: 0.0000e+00 - val_loss: 1449.3962 - val_acc: 0.0000e+00\n",
            "Epoch 8/100\n",
            "5/5 [==============================] - 0s 10ms/step - loss: 1589.4936 - acc: 0.0000e+00 - val_loss: 1442.2997 - val_acc: 0.0000e+00\n",
            "Epoch 9/100\n",
            "5/5 [==============================] - 0s 10ms/step - loss: 1546.8243 - acc: 0.0000e+00 - val_loss: 1434.1914 - val_acc: 0.0000e+00\n",
            "Epoch 10/100\n",
            "5/5 [==============================] - 0s 10ms/step - loss: 1546.8955 - acc: 0.0000e+00 - val_loss: 1425.1338 - val_acc: 0.0000e+00\n",
            "Epoch 11/100\n",
            "5/5 [==============================] - 0s 9ms/step - loss: 1582.9272 - acc: 0.0000e+00 - val_loss: 1414.6477 - val_acc: 0.0000e+00\n",
            "Epoch 12/100\n",
            "5/5 [==============================] - 0s 9ms/step - loss: 1557.0410 - acc: 0.0000e+00 - val_loss: 1402.3571 - val_acc: 0.0000e+00\n",
            "Epoch 13/100\n",
            "5/5 [==============================] - 0s 10ms/step - loss: 1559.0853 - acc: 0.0000e+00 - val_loss: 1388.0771 - val_acc: 0.0000e+00\n",
            "Epoch 14/100\n",
            "5/5 [==============================] - 0s 10ms/step - loss: 1534.0748 - acc: 0.0000e+00 - val_loss: 1371.2992 - val_acc: 0.0000e+00\n",
            "Epoch 15/100\n",
            "5/5 [==============================] - 0s 9ms/step - loss: 1534.9812 - acc: 0.0000e+00 - val_loss: 1351.7800 - val_acc: 0.0000e+00\n",
            "Epoch 16/100\n",
            "5/5 [==============================] - 0s 10ms/step - loss: 1476.1944 - acc: 0.0000e+00 - val_loss: 1329.0883 - val_acc: 0.0000e+00\n",
            "Epoch 17/100\n",
            "5/5 [==============================] - 0s 12ms/step - loss: 1440.4672 - acc: 0.0000e+00 - val_loss: 1302.8691 - val_acc: 0.0000e+00\n",
            "Epoch 18/100\n",
            "5/5 [==============================] - 0s 9ms/step - loss: 1434.0493 - acc: 0.0000e+00 - val_loss: 1272.7812 - val_acc: 0.0000e+00\n",
            "Epoch 19/100\n",
            "5/5 [==============================] - 0s 9ms/step - loss: 1372.6066 - acc: 0.0000e+00 - val_loss: 1238.4916 - val_acc: 0.0000e+00\n",
            "Epoch 20/100\n",
            "5/5 [==============================] - 0s 9ms/step - loss: 1347.7587 - acc: 0.0000e+00 - val_loss: 1199.7041 - val_acc: 0.0000e+00\n",
            "Epoch 21/100\n",
            "5/5 [==============================] - 0s 11ms/step - loss: 1301.9999 - acc: 0.0000e+00 - val_loss: 1156.1053 - val_acc: 0.0000e+00\n",
            "Epoch 22/100\n",
            "5/5 [==============================] - 0s 11ms/step - loss: 1278.1515 - acc: 0.0000e+00 - val_loss: 1107.2039 - val_acc: 0.0000e+00\n",
            "Epoch 23/100\n",
            "5/5 [==============================] - 0s 13ms/step - loss: 1180.1107 - acc: 0.0000e+00 - val_loss: 1053.3494 - val_acc: 0.0000e+00\n",
            "Epoch 24/100\n",
            "5/5 [==============================] - 0s 10ms/step - loss: 1115.9617 - acc: 0.0000e+00 - val_loss: 994.3143 - val_acc: 0.0000e+00\n",
            "Epoch 25/100\n",
            "5/5 [==============================] - 0s 9ms/step - loss: 1097.5356 - acc: 0.0000e+00 - val_loss: 929.4243 - val_acc: 0.0000e+00\n",
            "Epoch 26/100\n",
            "5/5 [==============================] - 0s 10ms/step - loss: 1023.8962 - acc: 0.0000e+00 - val_loss: 859.5081 - val_acc: 0.0000e+00\n",
            "Epoch 27/100\n",
            "5/5 [==============================] - 0s 9ms/step - loss: 996.4426 - acc: 0.0000e+00 - val_loss: 785.1452 - val_acc: 0.0000e+00\n",
            "Epoch 28/100\n",
            "5/5 [==============================] - 0s 10ms/step - loss: 812.3700 - acc: 0.0000e+00 - val_loss: 708.5927 - val_acc: 0.0000e+00\n",
            "Epoch 29/100\n",
            "5/5 [==============================] - 0s 10ms/step - loss: 762.8504 - acc: 0.0000e+00 - val_loss: 629.6088 - val_acc: 0.0000e+00\n",
            "Epoch 30/100\n",
            "5/5 [==============================] - 0s 12ms/step - loss: 678.8912 - acc: 0.0000e+00 - val_loss: 551.4202 - val_acc: 0.0000e+00\n",
            "Epoch 31/100\n",
            "5/5 [==============================] - 0s 11ms/step - loss: 639.8713 - acc: 0.0000e+00 - val_loss: 476.5043 - val_acc: 0.0000e+00\n",
            "Epoch 32/100\n",
            "5/5 [==============================] - 0s 13ms/step - loss: 511.8746 - acc: 0.0000e+00 - val_loss: 408.3404 - val_acc: 0.0000e+00\n",
            "Epoch 33/100\n",
            "5/5 [==============================] - 0s 12ms/step - loss: 468.3394 - acc: 0.0000e+00 - val_loss: 349.5088 - val_acc: 0.0000e+00\n",
            "Epoch 34/100\n",
            "5/5 [==============================] - 0s 10ms/step - loss: 417.8555 - acc: 0.0000e+00 - val_loss: 302.2190 - val_acc: 0.0000e+00\n",
            "Epoch 35/100\n",
            "5/5 [==============================] - 0s 10ms/step - loss: 364.8472 - acc: 0.0000e+00 - val_loss: 268.8696 - val_acc: 0.0000e+00\n",
            "Epoch 36/100\n",
            "5/5 [==============================] - 0s 10ms/step - loss: 342.5290 - acc: 0.0000e+00 - val_loss: 246.4244 - val_acc: 0.0000e+00\n",
            "Epoch 37/100\n",
            "5/5 [==============================] - 0s 10ms/step - loss: 322.4695 - acc: 0.0000e+00 - val_loss: 232.0759 - val_acc: 0.0000e+00\n",
            "Epoch 38/100\n",
            "5/5 [==============================] - 0s 10ms/step - loss: 299.5883 - acc: 0.0000e+00 - val_loss: 223.0230 - val_acc: 0.0000e+00\n",
            "Epoch 39/100\n",
            "5/5 [==============================] - 0s 10ms/step - loss: 311.0322 - acc: 0.0000e+00 - val_loss: 216.3072 - val_acc: 0.0000e+00\n",
            "Epoch 40/100\n",
            "5/5 [==============================] - 0s 11ms/step - loss: 303.3379 - acc: 0.0000e+00 - val_loss: 210.7466 - val_acc: 0.0000e+00\n",
            "Epoch 41/100\n",
            "5/5 [==============================] - 0s 10ms/step - loss: 274.7997 - acc: 0.0000e+00 - val_loss: 205.9636 - val_acc: 0.0000e+00\n",
            "Epoch 42/100\n",
            "5/5 [==============================] - 0s 10ms/step - loss: 276.9735 - acc: 0.0000e+00 - val_loss: 201.4474 - val_acc: 0.0000e+00\n",
            "Epoch 43/100\n",
            "5/5 [==============================] - 0s 10ms/step - loss: 269.6569 - acc: 0.0000e+00 - val_loss: 197.0432 - val_acc: 0.0000e+00\n",
            "Epoch 44/100\n",
            "5/5 [==============================] - 0s 10ms/step - loss: 272.8374 - acc: 0.0000e+00 - val_loss: 192.7137 - val_acc: 0.0000e+00\n",
            "Epoch 45/100\n",
            "5/5 [==============================] - 0s 10ms/step - loss: 274.5337 - acc: 0.0000e+00 - val_loss: 188.8651 - val_acc: 0.0000e+00\n",
            "Epoch 46/100\n",
            "5/5 [==============================] - 0s 10ms/step - loss: 272.9065 - acc: 0.0000e+00 - val_loss: 185.7654 - val_acc: 0.0000e+00\n",
            "Epoch 47/100\n",
            "5/5 [==============================] - 0s 10ms/step - loss: 247.9093 - acc: 0.0000e+00 - val_loss: 182.5697 - val_acc: 0.0000e+00\n",
            "Epoch 48/100\n",
            "5/5 [==============================] - 0s 11ms/step - loss: 247.8397 - acc: 0.0000e+00 - val_loss: 179.5470 - val_acc: 0.0000e+00\n",
            "Epoch 49/100\n",
            "5/5 [==============================] - 0s 11ms/step - loss: 235.2037 - acc: 0.0000e+00 - val_loss: 177.1341 - val_acc: 0.0000e+00\n",
            "Epoch 50/100\n",
            "5/5 [==============================] - 0s 10ms/step - loss: 254.1045 - acc: 0.0000e+00 - val_loss: 174.5742 - val_acc: 0.0000e+00\n",
            "Epoch 51/100\n",
            "5/5 [==============================] - 0s 10ms/step - loss: 233.9332 - acc: 0.0000e+00 - val_loss: 172.1670 - val_acc: 0.0000e+00\n",
            "Epoch 52/100\n",
            "5/5 [==============================] - 0s 9ms/step - loss: 244.8014 - acc: 0.0000e+00 - val_loss: 169.5896 - val_acc: 0.0000e+00\n",
            "Epoch 53/100\n",
            "5/5 [==============================] - 0s 10ms/step - loss: 231.5978 - acc: 0.0000e+00 - val_loss: 167.2959 - val_acc: 0.0000e+00\n",
            "Epoch 54/100\n",
            "5/5 [==============================] - 0s 10ms/step - loss: 222.1888 - acc: 0.0000e+00 - val_loss: 165.5012 - val_acc: 0.0000e+00\n",
            "Epoch 55/100\n",
            "5/5 [==============================] - 0s 10ms/step - loss: 227.4047 - acc: 0.0000e+00 - val_loss: 163.2815 - val_acc: 0.0000e+00\n",
            "Epoch 56/100\n",
            "5/5 [==============================] - 0s 10ms/step - loss: 233.3047 - acc: 0.0000e+00 - val_loss: 161.4643 - val_acc: 0.0000e+00\n",
            "Epoch 57/100\n",
            "5/5 [==============================] - 0s 9ms/step - loss: 223.6180 - acc: 0.0000e+00 - val_loss: 159.6101 - val_acc: 0.0000e+00\n",
            "Epoch 58/100\n",
            "5/5 [==============================] - 0s 10ms/step - loss: 225.8137 - acc: 0.0000e+00 - val_loss: 157.6887 - val_acc: 0.0000e+00\n",
            "Epoch 59/100\n",
            "5/5 [==============================] - 0s 10ms/step - loss: 225.6002 - acc: 0.0000e+00 - val_loss: 156.2493 - val_acc: 0.0000e+00\n",
            "Epoch 60/100\n",
            "5/5 [==============================] - 0s 10ms/step - loss: 216.1576 - acc: 0.0000e+00 - val_loss: 154.6583 - val_acc: 0.0000e+00\n",
            "Epoch 61/100\n",
            "5/5 [==============================] - 0s 9ms/step - loss: 216.7111 - acc: 0.0000e+00 - val_loss: 153.1947 - val_acc: 0.0000e+00\n",
            "Epoch 62/100\n",
            "5/5 [==============================] - 0s 9ms/step - loss: 217.4529 - acc: 0.0000e+00 - val_loss: 151.5433 - val_acc: 0.0000e+00\n",
            "Epoch 63/100\n",
            "5/5 [==============================] - 0s 10ms/step - loss: 195.3635 - acc: 0.0000e+00 - val_loss: 150.3892 - val_acc: 0.0000e+00\n",
            "Epoch 64/100\n",
            "5/5 [==============================] - 0s 10ms/step - loss: 190.2707 - acc: 0.0000e+00 - val_loss: 149.5325 - val_acc: 0.0000e+00\n",
            "Epoch 65/100\n",
            "5/5 [==============================] - 0s 11ms/step - loss: 197.4912 - acc: 0.0000e+00 - val_loss: 148.4805 - val_acc: 0.0000e+00\n",
            "Epoch 66/100\n",
            "5/5 [==============================] - 0s 12ms/step - loss: 216.2132 - acc: 0.0000e+00 - val_loss: 147.1681 - val_acc: 0.0000e+00\n",
            "Epoch 67/100\n",
            "5/5 [==============================] - 0s 11ms/step - loss: 203.3776 - acc: 0.0000e+00 - val_loss: 145.7321 - val_acc: 0.0000e+00\n",
            "Epoch 68/100\n",
            "5/5 [==============================] - 0s 11ms/step - loss: 203.1500 - acc: 0.0000e+00 - val_loss: 144.7135 - val_acc: 0.0000e+00\n",
            "Epoch 69/100\n",
            "5/5 [==============================] - 0s 10ms/step - loss: 205.6111 - acc: 0.0000e+00 - val_loss: 143.7891 - val_acc: 0.0000e+00\n",
            "Epoch 70/100\n",
            "5/5 [==============================] - 0s 10ms/step - loss: 198.7056 - acc: 0.0000e+00 - val_loss: 142.7651 - val_acc: 0.0000e+00\n",
            "Epoch 71/100\n",
            "5/5 [==============================] - 0s 9ms/step - loss: 207.8529 - acc: 0.0000e+00 - val_loss: 141.6432 - val_acc: 0.0000e+00\n",
            "Epoch 72/100\n",
            "5/5 [==============================] - 0s 13ms/step - loss: 200.1368 - acc: 0.0000e+00 - val_loss: 140.4852 - val_acc: 0.0000e+00\n",
            "Epoch 73/100\n",
            "5/5 [==============================] - 0s 11ms/step - loss: 207.0695 - acc: 0.0000e+00 - val_loss: 139.5226 - val_acc: 0.0000e+00\n",
            "Epoch 74/100\n",
            "5/5 [==============================] - 0s 10ms/step - loss: 192.4495 - acc: 0.0000e+00 - val_loss: 138.3822 - val_acc: 0.0000e+00\n",
            "Epoch 75/100\n",
            "5/5 [==============================] - 0s 11ms/step - loss: 194.9674 - acc: 0.0000e+00 - val_loss: 137.4723 - val_acc: 0.0000e+00\n",
            "Epoch 76/100\n",
            "5/5 [==============================] - 0s 10ms/step - loss: 195.4299 - acc: 0.0000e+00 - val_loss: 136.5080 - val_acc: 0.0000e+00\n",
            "Epoch 77/100\n",
            "5/5 [==============================] - 0s 10ms/step - loss: 188.4440 - acc: 0.0000e+00 - val_loss: 135.7561 - val_acc: 0.0000e+00\n",
            "Epoch 78/100\n",
            "5/5 [==============================] - 0s 11ms/step - loss: 181.6357 - acc: 0.0000e+00 - val_loss: 134.8575 - val_acc: 0.0000e+00\n",
            "Epoch 79/100\n",
            "5/5 [==============================] - 0s 11ms/step - loss: 178.6978 - acc: 0.0000e+00 - val_loss: 134.1364 - val_acc: 0.0000e+00\n",
            "Epoch 80/100\n",
            "5/5 [==============================] - 0s 10ms/step - loss: 182.2052 - acc: 0.0000e+00 - val_loss: 133.2549 - val_acc: 0.0000e+00\n",
            "Epoch 81/100\n",
            "5/5 [==============================] - 0s 10ms/step - loss: 186.0679 - acc: 0.0000e+00 - val_loss: 132.7164 - val_acc: 0.0000e+00\n",
            "Epoch 82/100\n",
            "5/5 [==============================] - 0s 10ms/step - loss: 192.4968 - acc: 0.0000e+00 - val_loss: 131.8832 - val_acc: 0.0000e+00\n",
            "Epoch 83/100\n",
            "5/5 [==============================] - 0s 10ms/step - loss: 177.9181 - acc: 0.0000e+00 - val_loss: 130.8983 - val_acc: 0.0000e+00\n",
            "Epoch 84/100\n",
            "5/5 [==============================] - 0s 11ms/step - loss: 173.8970 - acc: 0.0000e+00 - val_loss: 129.9862 - val_acc: 0.0000e+00\n",
            "Epoch 85/100\n",
            "5/5 [==============================] - 0s 11ms/step - loss: 189.8204 - acc: 0.0000e+00 - val_loss: 129.2477 - val_acc: 0.0000e+00\n",
            "Epoch 86/100\n",
            "5/5 [==============================] - 0s 12ms/step - loss: 176.5116 - acc: 0.0000e+00 - val_loss: 128.4538 - val_acc: 0.0000e+00\n",
            "Epoch 87/100\n",
            "5/5 [==============================] - 0s 11ms/step - loss: 180.3984 - acc: 0.0000e+00 - val_loss: 128.0471 - val_acc: 0.0000e+00\n",
            "Epoch 88/100\n",
            "5/5 [==============================] - 0s 10ms/step - loss: 187.4216 - acc: 0.0000e+00 - val_loss: 127.4982 - val_acc: 0.0000e+00\n",
            "Epoch 89/100\n",
            "5/5 [==============================] - 0s 9ms/step - loss: 171.2750 - acc: 0.0000e+00 - val_loss: 126.5178 - val_acc: 0.0000e+00\n",
            "Epoch 90/100\n",
            "5/5 [==============================] - 0s 10ms/step - loss: 179.6458 - acc: 0.0000e+00 - val_loss: 126.2039 - val_acc: 0.0000e+00\n",
            "Epoch 91/100\n",
            "5/5 [==============================] - 0s 9ms/step - loss: 178.6544 - acc: 0.0000e+00 - val_loss: 125.6268 - val_acc: 0.0000e+00\n",
            "Epoch 92/100\n",
            "5/5 [==============================] - 0s 10ms/step - loss: 172.7832 - acc: 0.0000e+00 - val_loss: 124.9023 - val_acc: 0.0000e+00\n",
            "Epoch 93/100\n",
            "5/5 [==============================] - 0s 10ms/step - loss: 179.8363 - acc: 0.0000e+00 - val_loss: 124.2123 - val_acc: 0.0000e+00\n",
            "Epoch 94/100\n",
            "5/5 [==============================] - 0s 12ms/step - loss: 173.2361 - acc: 0.0000e+00 - val_loss: 123.4940 - val_acc: 0.0000e+00\n",
            "Epoch 95/100\n",
            "5/5 [==============================] - 0s 10ms/step - loss: 167.2214 - acc: 0.0000e+00 - val_loss: 122.4257 - val_acc: 0.0000e+00\n",
            "Epoch 96/100\n",
            "5/5 [==============================] - 0s 11ms/step - loss: 170.6885 - acc: 0.0000e+00 - val_loss: 121.5555 - val_acc: 0.0000e+00\n",
            "Epoch 97/100\n",
            "5/5 [==============================] - 0s 11ms/step - loss: 167.1071 - acc: 0.0000e+00 - val_loss: 121.1814 - val_acc: 0.0000e+00\n",
            "Epoch 98/100\n",
            "5/5 [==============================] - 0s 10ms/step - loss: 170.2026 - acc: 0.0000e+00 - val_loss: 121.0728 - val_acc: 0.0000e+00\n",
            "Epoch 99/100\n",
            "5/5 [==============================] - 0s 10ms/step - loss: 160.7490 - acc: 0.0000e+00 - val_loss: 120.2888 - val_acc: 0.0000e+00\n",
            "Epoch 100/100\n",
            "5/5 [==============================] - 0s 10ms/step - loss: 168.2849 - acc: 0.0000e+00 - val_loss: 119.5185 - val_acc: 0.0000e+00\n"
          ],
          "name": "stdout"
        },
        {
          "output_type": "execute_result",
          "data": {
            "text/plain": [
              "<tensorflow.python.keras.callbacks.History at 0x7faaffc96ad0>"
            ]
          },
          "metadata": {
            "tags": []
          },
          "execution_count": 14
        }
      ]
    },
    {
      "cell_type": "code",
      "metadata": {
        "colab": {
          "base_uri": "https://localhost:8080/"
        },
        "id": "k5pobxVD2Dfq",
        "outputId": "9269a39b-3799-4ce3-b8f8-dab9be2ba0d9"
      },
      "source": [
        "model.evaluate(x_test,y_test)"
      ],
      "execution_count": 15,
      "outputs": [
        {
          "output_type": "stream",
          "text": [
            "10/10 [==============================] - 0s 1ms/step - loss: 170.0000 - acc: 0.0000e+00\n"
          ],
          "name": "stdout"
        },
        {
          "output_type": "execute_result",
          "data": {
            "text/plain": [
              "[169.99996948242188, 0.0]"
            ]
          },
          "metadata": {
            "tags": []
          },
          "execution_count": 15
        }
      ]
    },
    {
      "cell_type": "code",
      "metadata": {
        "colab": {
          "base_uri": "https://localhost:8080/"
        },
        "id": "jE157g712Dfr",
        "outputId": "6c260536-b839-4e6b-f3d6-3133ce4d709c"
      },
      "source": [
        "pred_train= model.predict(part_x_train)\n",
        "print(np.sqrt(mean_squared_error(part_y_train,pred_train)))"
      ],
      "execution_count": 17,
      "outputs": [
        {
          "output_type": "stream",
          "text": [
            "12.902097182914117\n"
          ],
          "name": "stdout"
        }
      ]
    },
    {
      "cell_type": "code",
      "metadata": {
        "colab": {
          "base_uri": "https://localhost:8080/"
        },
        "id": "_PfIy_Y-2Dfr",
        "outputId": "dfc26143-9be8-4b0d-dfa8-79ad2a509ac5"
      },
      "source": [
        "model.predict(x_test).sum()\n"
      ],
      "execution_count": 18,
      "outputs": [
        {
          "output_type": "execute_result",
          "data": {
            "text/plain": [
              "10766.301"
            ]
          },
          "metadata": {
            "tags": []
          },
          "execution_count": 18
        }
      ]
    },
    {
      "cell_type": "code",
      "metadata": {
        "id": "XtsHEiTx2Dfs"
      },
      "source": [
        ""
      ],
      "execution_count": null,
      "outputs": []
    },
    {
      "cell_type": "code",
      "metadata": {
        "id": "K9Y7Llrf2Dfs"
      },
      "source": [
        ""
      ],
      "execution_count": null,
      "outputs": []
    },
    {
      "cell_type": "code",
      "metadata": {
        "id": "7GW8PCLh2Dft"
      },
      "source": [
        ""
      ],
      "execution_count": null,
      "outputs": []
    }
  ]
}